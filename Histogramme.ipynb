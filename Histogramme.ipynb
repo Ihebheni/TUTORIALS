{
 "cells": [
  {
   "cell_type": "markdown",
   "metadata": {
    "id": "WmbE4DmsqqRS"
   },
   "source": [
    "# <center>**COMMENT BIEN DECRIRE UN HISTOGRAMME ?**\n",
    "\n",
    "<center>Par Josué AFOUDA"
   ]
  },
  {
   "cell_type": "markdown",
   "metadata": {
    "id": "uFP92ljElOL4"
   },
   "source": [
    "Les histogrammes sont utilisés pour visualiser la distribution des variables quantitatives continues. \n",
    "\n",
    "Dans ce tutoriel, je vous montrerai comment :\n",
    "\n",
    "* 1- **calculer des paramètres statistiques pour décrire une variable** ;\n",
    "\n",
    "* 2- **construire un histogramme pour représenter la distribution d'une variable** ;\n",
    "\n",
    "* 3- **décrire la distribution d'une variable en se basant sur son histogramme**."
   ]
  },
  {
   "cell_type": "markdown",
   "metadata": {
    "id": "voy7zco-rOXG"
   },
   "source": [
    "# <font color=red> Importation des outils et des données"
   ]
  },
  {
   "cell_type": "code",
   "execution_count": 1,
   "metadata": {
    "executionInfo": {
     "elapsed": 705,
     "status": "ok",
     "timestamp": 1607013977774,
     "user": {
      "displayName": "J.A DATATECH CONSULTING",
      "photoUrl": "https://lh3.googleusercontent.com/a-/AOh14Gi9wsjK7psnF8z3uOCEcA2yFkP2ckMODUtZxShO=s64",
      "userId": "06410945177748020218"
     },
     "user_tz": -60
    },
    "id": "DEQE7k1KqRJ4"
   },
   "outputs": [],
   "source": [
    "# Importation des librairies\n",
    "\n",
    "import pandas as pd\n",
    "import numpy as np\n",
    "import matplotlib.pyplot as plt\n",
    "import seaborn as sns"
   ]
  },
  {
   "cell_type": "code",
   "execution_count": 2,
   "metadata": {
    "colab": {
     "base_uri": "https://localhost:8080/",
     "height": 195
    },
    "executionInfo": {
     "elapsed": 1423,
     "status": "ok",
     "timestamp": 1607013978512,
     "user": {
      "displayName": "J.A DATATECH CONSULTING",
      "photoUrl": "https://lh3.googleusercontent.com/a-/AOh14Gi9wsjK7psnF8z3uOCEcA2yFkP2ckMODUtZxShO=s64",
      "userId": "06410945177748020218"
     },
     "user_tz": -60
    },
    "id": "yMRhf2WfqjdV",
    "outputId": "11a0ed45-5688-4d61-ec52-116548498593"
   },
   "outputs": [
    {
     "data": {
      "text/html": [
       "<div>\n",
       "<style scoped>\n",
       "    .dataframe tbody tr th:only-of-type {\n",
       "        vertical-align: middle;\n",
       "    }\n",
       "\n",
       "    .dataframe tbody tr th {\n",
       "        vertical-align: top;\n",
       "    }\n",
       "\n",
       "    .dataframe thead th {\n",
       "        text-align: right;\n",
       "    }\n",
       "</style>\n",
       "<table border=\"1\" class=\"dataframe\">\n",
       "  <thead>\n",
       "    <tr style=\"text-align: right;\">\n",
       "      <th></th>\n",
       "      <th>total_bill</th>\n",
       "      <th>tip</th>\n",
       "      <th>sex</th>\n",
       "      <th>smoker</th>\n",
       "      <th>day</th>\n",
       "      <th>time</th>\n",
       "      <th>size</th>\n",
       "    </tr>\n",
       "  </thead>\n",
       "  <tbody>\n",
       "    <tr>\n",
       "      <th>0</th>\n",
       "      <td>16.99</td>\n",
       "      <td>1.01</td>\n",
       "      <td>Female</td>\n",
       "      <td>No</td>\n",
       "      <td>Sun</td>\n",
       "      <td>Dinner</td>\n",
       "      <td>2</td>\n",
       "    </tr>\n",
       "    <tr>\n",
       "      <th>1</th>\n",
       "      <td>10.34</td>\n",
       "      <td>1.66</td>\n",
       "      <td>Male</td>\n",
       "      <td>No</td>\n",
       "      <td>Sun</td>\n",
       "      <td>Dinner</td>\n",
       "      <td>3</td>\n",
       "    </tr>\n",
       "    <tr>\n",
       "      <th>2</th>\n",
       "      <td>21.01</td>\n",
       "      <td>3.50</td>\n",
       "      <td>Male</td>\n",
       "      <td>No</td>\n",
       "      <td>Sun</td>\n",
       "      <td>Dinner</td>\n",
       "      <td>3</td>\n",
       "    </tr>\n",
       "    <tr>\n",
       "      <th>3</th>\n",
       "      <td>23.68</td>\n",
       "      <td>3.31</td>\n",
       "      <td>Male</td>\n",
       "      <td>No</td>\n",
       "      <td>Sun</td>\n",
       "      <td>Dinner</td>\n",
       "      <td>2</td>\n",
       "    </tr>\n",
       "    <tr>\n",
       "      <th>4</th>\n",
       "      <td>24.59</td>\n",
       "      <td>3.61</td>\n",
       "      <td>Female</td>\n",
       "      <td>No</td>\n",
       "      <td>Sun</td>\n",
       "      <td>Dinner</td>\n",
       "      <td>4</td>\n",
       "    </tr>\n",
       "  </tbody>\n",
       "</table>\n",
       "</div>"
      ],
      "text/plain": [
       "   total_bill   tip     sex smoker  day    time  size\n",
       "0       16.99  1.01  Female     No  Sun  Dinner     2\n",
       "1       10.34  1.66    Male     No  Sun  Dinner     3\n",
       "2       21.01  3.50    Male     No  Sun  Dinner     3\n",
       "3       23.68  3.31    Male     No  Sun  Dinner     2\n",
       "4       24.59  3.61  Female     No  Sun  Dinner     4"
      ]
     },
     "execution_count": 2,
     "metadata": {},
     "output_type": "execute_result"
    }
   ],
   "source": [
    "# Importation du jeu de données 'tips'\n",
    "\n",
    "tips_df = sns.load_dataset('tips')\n",
    "\n",
    "tips_df.head()"
   ]
  },
  {
   "cell_type": "code",
   "execution_count": 3,
   "metadata": {
    "colab": {
     "base_uri": "https://localhost:8080/"
    },
    "executionInfo": {
     "elapsed": 1415,
     "status": "ok",
     "timestamp": 1607013978513,
     "user": {
      "displayName": "J.A DATATECH CONSULTING",
      "photoUrl": "https://lh3.googleusercontent.com/a-/AOh14Gi9wsjK7psnF8z3uOCEcA2yFkP2ckMODUtZxShO=s64",
      "userId": "06410945177748020218"
     },
     "user_tz": -60
    },
    "id": "5b-gAy4AuZsL",
    "outputId": "02f43d1b-ae64-4e3e-c388-bc458411ee81"
   },
   "outputs": [
    {
     "name": "stdout",
     "output_type": "stream",
     "text": [
      "<class 'pandas.core.frame.DataFrame'>\n",
      "RangeIndex: 244 entries, 0 to 243\n",
      "Data columns (total 7 columns):\n",
      " #   Column      Non-Null Count  Dtype   \n",
      "---  ------      --------------  -----   \n",
      " 0   total_bill  244 non-null    float64 \n",
      " 1   tip         244 non-null    float64 \n",
      " 2   sex         244 non-null    category\n",
      " 3   smoker      244 non-null    category\n",
      " 4   day         244 non-null    category\n",
      " 5   time        244 non-null    category\n",
      " 6   size        244 non-null    int64   \n",
      "dtypes: category(4), float64(2), int64(1)\n",
      "memory usage: 7.3 KB\n"
     ]
    }
   ],
   "source": [
    "# Structure des données\n",
    "\n",
    "tips_df.info()"
   ]
  },
  {
   "cell_type": "markdown",
   "metadata": {
    "id": "MfLRJfKh7F4i"
   },
   "source": [
    "# <font color=red> Paramètres statistiques usuels"
   ]
  },
  {
   "cell_type": "markdown",
   "metadata": {
    "id": "B1Qica-i7fCn"
   },
   "source": [
    "Il est très courant et simple de commencer une analyse des données en calculant des paramètres statistiques standard comme :\n",
    "\n",
    "* **Moyenne** ;\n",
    "\n",
    "* **Médiane** ;\n",
    "\n",
    "* **Minimum** ;\n",
    "\n",
    "* **Maximum** ;\n",
    "\n",
    "* **Mode** ;\n",
    "\n",
    "* **Etendue** ;\n",
    "\n",
    "* **Variance et Ecart-type**.\n",
    "\n",
    "Calculons ces paramètres au niveau de la variable *tip*."
   ]
  },
  {
   "cell_type": "code",
   "execution_count": 4,
   "metadata": {
    "colab": {
     "base_uri": "https://localhost:8080/"
    },
    "executionInfo": {
     "elapsed": 1407,
     "status": "ok",
     "timestamp": 1607013978514,
     "user": {
      "displayName": "J.A DATATECH CONSULTING",
      "photoUrl": "https://lh3.googleusercontent.com/a-/AOh14Gi9wsjK7psnF8z3uOCEcA2yFkP2ckMODUtZxShO=s64",
      "userId": "06410945177748020218"
     },
     "user_tz": -60
    },
    "id": "KAcR931x71JB",
    "outputId": "77cbee19-a99b-44da-b5f6-1cb7bd89e112"
   },
   "outputs": [
    {
     "data": {
      "text/plain": [
       "2.9982786885245902"
      ]
     },
     "execution_count": 4,
     "metadata": {},
     "output_type": "execute_result"
    }
   ],
   "source": [
    "# Pourboie moyen \n",
    "\n",
    "tips_df['tip'].mean()"
   ]
  },
  {
   "cell_type": "code",
   "execution_count": 5,
   "metadata": {
    "colab": {
     "base_uri": "https://localhost:8080/"
    },
    "executionInfo": {
     "elapsed": 1396,
     "status": "ok",
     "timestamp": 1607013978516,
     "user": {
      "displayName": "J.A DATATECH CONSULTING",
      "photoUrl": "https://lh3.googleusercontent.com/a-/AOh14Gi9wsjK7psnF8z3uOCEcA2yFkP2ckMODUtZxShO=s64",
      "userId": "06410945177748020218"
     },
     "user_tz": -60
    },
    "id": "t2ekNY8H8oQF",
    "outputId": "a5d77de6-99ef-49fc-e09d-17f21aa2d4a1"
   },
   "outputs": [
    {
     "data": {
      "text/plain": [
       "2.9"
      ]
     },
     "execution_count": 5,
     "metadata": {},
     "output_type": "execute_result"
    }
   ],
   "source": [
    "# Pourboie médian\n",
    "\n",
    "tips_df['tip'].median()"
   ]
  },
  {
   "cell_type": "code",
   "execution_count": 6,
   "metadata": {
    "colab": {
     "base_uri": "https://localhost:8080/"
    },
    "executionInfo": {
     "elapsed": 1389,
     "status": "ok",
     "timestamp": 1607013978517,
     "user": {
      "displayName": "J.A DATATECH CONSULTING",
      "photoUrl": "https://lh3.googleusercontent.com/a-/AOh14Gi9wsjK7psnF8z3uOCEcA2yFkP2ckMODUtZxShO=s64",
      "userId": "06410945177748020218"
     },
     "user_tz": -60
    },
    "id": "euvRVAqk-UwQ",
    "outputId": "c0b4aa71-7c74-4ef0-92ec-34b20463398b"
   },
   "outputs": [
    {
     "data": {
      "text/plain": [
       "1.0"
      ]
     },
     "execution_count": 6,
     "metadata": {},
     "output_type": "execute_result"
    }
   ],
   "source": [
    "# Pourboie minimum\n",
    "\n",
    "tips_df['tip'].min()"
   ]
  },
  {
   "cell_type": "code",
   "execution_count": 7,
   "metadata": {
    "colab": {
     "base_uri": "https://localhost:8080/"
    },
    "executionInfo": {
     "elapsed": 1380,
     "status": "ok",
     "timestamp": 1607013978518,
     "user": {
      "displayName": "J.A DATATECH CONSULTING",
      "photoUrl": "https://lh3.googleusercontent.com/a-/AOh14Gi9wsjK7psnF8z3uOCEcA2yFkP2ckMODUtZxShO=s64",
      "userId": "06410945177748020218"
     },
     "user_tz": -60
    },
    "id": "tre6YixO-byl",
    "outputId": "dbf00853-b85f-4c28-e4b3-ef5328681d3f"
   },
   "outputs": [
    {
     "data": {
      "text/plain": [
       "10.0"
      ]
     },
     "execution_count": 7,
     "metadata": {},
     "output_type": "execute_result"
    }
   ],
   "source": [
    "# Pourboie maximum\n",
    "\n",
    "tips_df['tip'].max()"
   ]
  },
  {
   "cell_type": "code",
   "execution_count": 8,
   "metadata": {
    "colab": {
     "base_uri": "https://localhost:8080/"
    },
    "executionInfo": {
     "elapsed": 2276,
     "status": "ok",
     "timestamp": 1607013979450,
     "user": {
      "displayName": "J.A DATATECH CONSULTING",
      "photoUrl": "https://lh3.googleusercontent.com/a-/AOh14Gi9wsjK7psnF8z3uOCEcA2yFkP2ckMODUtZxShO=s64",
      "userId": "06410945177748020218"
     },
     "user_tz": -60
    },
    "id": "hIMHyp0RCKHp",
    "outputId": "c7132144-4e32-453c-c0cd-57933434a009"
   },
   "outputs": [
    {
     "data": {
      "text/plain": [
       "9.0"
      ]
     },
     "execution_count": 8,
     "metadata": {},
     "output_type": "execute_result"
    }
   ],
   "source": [
    "# Etendue de la variable 'tip'\n",
    "\n",
    "tips_df['tip'].max() - tips_df['tip'].min()"
   ]
  },
  {
   "cell_type": "code",
   "execution_count": 9,
   "metadata": {
    "colab": {
     "base_uri": "https://localhost:8080/"
    },
    "executionInfo": {
     "elapsed": 2270,
     "status": "ok",
     "timestamp": 1607013979452,
     "user": {
      "displayName": "J.A DATATECH CONSULTING",
      "photoUrl": "https://lh3.googleusercontent.com/a-/AOh14Gi9wsjK7psnF8z3uOCEcA2yFkP2ckMODUtZxShO=s64",
      "userId": "06410945177748020218"
     },
     "user_tz": -60
    },
    "id": "peaDLEbGEg4m",
    "outputId": "80332cf1-9463-4085-a556-b273863eb164"
   },
   "outputs": [
    {
     "data": {
      "text/plain": [
       "1.9144546380624725"
      ]
     },
     "execution_count": 9,
     "metadata": {},
     "output_type": "execute_result"
    }
   ],
   "source": [
    "# Variance de la variable 'tip'\n",
    "\n",
    "tips_df['tip'].var()"
   ]
  },
  {
   "cell_type": "code",
   "execution_count": 10,
   "metadata": {
    "colab": {
     "base_uri": "https://localhost:8080/"
    },
    "executionInfo": {
     "elapsed": 2263,
     "status": "ok",
     "timestamp": 1607013979453,
     "user": {
      "displayName": "J.A DATATECH CONSULTING",
      "photoUrl": "https://lh3.googleusercontent.com/a-/AOh14Gi9wsjK7psnF8z3uOCEcA2yFkP2ckMODUtZxShO=s64",
      "userId": "06410945177748020218"
     },
     "user_tz": -60
    },
    "id": "NiGVTUtZEsOV",
    "outputId": "f83d6a09-19cc-4653-debd-e7b349b8aa46"
   },
   "outputs": [
    {
     "data": {
      "text/plain": [
       "1.3836381890011826"
      ]
     },
     "execution_count": 10,
     "metadata": {},
     "output_type": "execute_result"
    }
   ],
   "source": [
    "# Ecart-type de la variable 'tip'\n",
    "\n",
    "tips_df['tip'].std()"
   ]
  },
  {
   "cell_type": "code",
   "execution_count": 11,
   "metadata": {
    "colab": {
     "base_uri": "https://localhost:8080/"
    },
    "executionInfo": {
     "elapsed": 2256,
     "status": "ok",
     "timestamp": 1607013979454,
     "user": {
      "displayName": "J.A DATATECH CONSULTING",
      "photoUrl": "https://lh3.googleusercontent.com/a-/AOh14Gi9wsjK7psnF8z3uOCEcA2yFkP2ckMODUtZxShO=s64",
      "userId": "06410945177748020218"
     },
     "user_tz": -60
    },
    "id": "as10SwreEzsH",
    "outputId": "91ceddba-037d-4e37-9a45-5266e8b40f3d"
   },
   "outputs": [
    {
     "data": {
      "text/plain": [
       "True"
      ]
     },
     "execution_count": 11,
     "metadata": {},
     "output_type": "execute_result"
    }
   ],
   "source": [
    "# Vérifions que l'écart-type est bel et bien la racine caréée de la variance\n",
    "\n",
    "tips_df['tip'].std() == np.sqrt(tips_df['tip'].var())"
   ]
  },
  {
   "cell_type": "code",
   "execution_count": 12,
   "metadata": {
    "colab": {
     "base_uri": "https://localhost:8080/",
     "height": 284
    },
    "executionInfo": {
     "elapsed": 2246,
     "status": "ok",
     "timestamp": 1607013979455,
     "user": {
      "displayName": "J.A DATATECH CONSULTING",
      "photoUrl": "https://lh3.googleusercontent.com/a-/AOh14Gi9wsjK7psnF8z3uOCEcA2yFkP2ckMODUtZxShO=s64",
      "userId": "06410945177748020218"
     },
     "user_tz": -60
    },
    "id": "LvVHGonpFBN_",
    "outputId": "ed12799e-8674-45f4-e416-139c405eb85c"
   },
   "outputs": [
    {
     "data": {
      "text/html": [
       "<div>\n",
       "<style scoped>\n",
       "    .dataframe tbody tr th:only-of-type {\n",
       "        vertical-align: middle;\n",
       "    }\n",
       "\n",
       "    .dataframe tbody tr th {\n",
       "        vertical-align: top;\n",
       "    }\n",
       "\n",
       "    .dataframe thead th {\n",
       "        text-align: right;\n",
       "    }\n",
       "</style>\n",
       "<table border=\"1\" class=\"dataframe\">\n",
       "  <thead>\n",
       "    <tr style=\"text-align: right;\">\n",
       "      <th></th>\n",
       "      <th>total_bill</th>\n",
       "      <th>tip</th>\n",
       "      <th>size</th>\n",
       "    </tr>\n",
       "  </thead>\n",
       "  <tbody>\n",
       "    <tr>\n",
       "      <th>count</th>\n",
       "      <td>244.000000</td>\n",
       "      <td>244.000000</td>\n",
       "      <td>244.000000</td>\n",
       "    </tr>\n",
       "    <tr>\n",
       "      <th>mean</th>\n",
       "      <td>19.785943</td>\n",
       "      <td>2.998279</td>\n",
       "      <td>2.569672</td>\n",
       "    </tr>\n",
       "    <tr>\n",
       "      <th>std</th>\n",
       "      <td>8.902412</td>\n",
       "      <td>1.383638</td>\n",
       "      <td>0.951100</td>\n",
       "    </tr>\n",
       "    <tr>\n",
       "      <th>min</th>\n",
       "      <td>3.070000</td>\n",
       "      <td>1.000000</td>\n",
       "      <td>1.000000</td>\n",
       "    </tr>\n",
       "    <tr>\n",
       "      <th>25%</th>\n",
       "      <td>13.347500</td>\n",
       "      <td>2.000000</td>\n",
       "      <td>2.000000</td>\n",
       "    </tr>\n",
       "    <tr>\n",
       "      <th>50%</th>\n",
       "      <td>17.795000</td>\n",
       "      <td>2.900000</td>\n",
       "      <td>2.000000</td>\n",
       "    </tr>\n",
       "    <tr>\n",
       "      <th>75%</th>\n",
       "      <td>24.127500</td>\n",
       "      <td>3.562500</td>\n",
       "      <td>3.000000</td>\n",
       "    </tr>\n",
       "    <tr>\n",
       "      <th>max</th>\n",
       "      <td>50.810000</td>\n",
       "      <td>10.000000</td>\n",
       "      <td>6.000000</td>\n",
       "    </tr>\n",
       "  </tbody>\n",
       "</table>\n",
       "</div>"
      ],
      "text/plain": [
       "       total_bill         tip        size\n",
       "count  244.000000  244.000000  244.000000\n",
       "mean    19.785943    2.998279    2.569672\n",
       "std      8.902412    1.383638    0.951100\n",
       "min      3.070000    1.000000    1.000000\n",
       "25%     13.347500    2.000000    2.000000\n",
       "50%     17.795000    2.900000    2.000000\n",
       "75%     24.127500    3.562500    3.000000\n",
       "max     50.810000   10.000000    6.000000"
      ]
     },
     "execution_count": 12,
     "metadata": {},
     "output_type": "execute_result"
    }
   ],
   "source": [
    "# Table de statistiques descriptives (une seule ligne de code)\n",
    "\n",
    "tips_df.describe()"
   ]
  },
  {
   "cell_type": "markdown",
   "metadata": {
    "id": "MSXOkUfnJ8ue"
   },
   "source": [
    "Vous pouvez aussi calculer la gamme interquartile (Interquartile Range ou IQR en Anglais). L'IQR est la différence entre le 3è quartile et le 1er quartile."
   ]
  },
  {
   "cell_type": "code",
   "execution_count": 13,
   "metadata": {
    "colab": {
     "base_uri": "https://localhost:8080/"
    },
    "executionInfo": {
     "elapsed": 2216,
     "status": "ok",
     "timestamp": 1607013979462,
     "user": {
      "displayName": "J.A DATATECH CONSULTING",
      "photoUrl": "https://lh3.googleusercontent.com/a-/AOh14Gi9wsjK7psnF8z3uOCEcA2yFkP2ckMODUtZxShO=s64",
      "userId": "06410945177748020218"
     },
     "user_tz": -60
    },
    "id": "L9Boay-NXtxy",
    "outputId": "595b5bb9-5a5e-41fa-c243-59dd118d7715"
   },
   "outputs": [
    {
     "data": {
      "text/plain": [
       "10.779999999999998"
      ]
     },
     "execution_count": 13,
     "metadata": {},
     "output_type": "execute_result"
    }
   ],
   "source": [
    "# IQR de la variable 'total_bill'\n",
    "\n",
    "tips_df['total_bill'].quantile(0.75) - tips_df['total_bill'].quantile(0.25)"
   ]
  },
  {
   "cell_type": "markdown",
   "metadata": {
    "id": "wr5_TcpHOH81"
   },
   "source": [
    "# <font color=red> Construction d'un histogramme"
   ]
  },
  {
   "cell_type": "code",
   "execution_count": 14,
   "metadata": {
    "colab": {
     "base_uri": "https://localhost:8080/",
     "height": 350
    },
    "executionInfo": {
     "elapsed": 2197,
     "status": "ok",
     "timestamp": 1607013979463,
     "user": {
      "displayName": "J.A DATATECH CONSULTING",
      "photoUrl": "https://lh3.googleusercontent.com/a-/AOh14Gi9wsjK7psnF8z3uOCEcA2yFkP2ckMODUtZxShO=s64",
      "userId": "06410945177748020218"
     },
     "user_tz": -60
    },
    "id": "pMw4MEBNOHYi",
    "outputId": "fdcde87f-da55-4438-88d4-b960d6392bc6"
   },
   "outputs": [
    {
     "data": {
      "image/png": "[encoded data removed]",
      "text/plain": [
       "<Figure size 432x288 with 1 Axes>"
      ]
     },
     "metadata": {
      "needs_background": "light"
     },
     "output_type": "display_data"
    }
   ],
   "source": [
    "# Histogramme du montant total de la consommation\n",
    "\n",
    "sns.distplot(tips_df[\"total_bill\"], kde = False).set_title(\"Consommation totale\");"
   ]
  },
  {
   "cell_type": "markdown",
   "metadata": {
    "id": "_Ub6XfD5QPL1"
   },
   "source": [
    "En ordonnée, on a la fréquence c'est-à-dire le nombre de fois d'occurence d'une valeur. En abscisse, on a les valeurs de la variable."
   ]
  },
  {
   "cell_type": "markdown",
   "metadata": {
    "id": "_68t49IURX51"
   },
   "source": [
    "Vous pouvez aussi choisir de représenter uniquement la densité de probabilité et non l'histogramme ou les deux ensemble."
   ]
  },
  {
   "cell_type": "code",
   "execution_count": 15,
   "metadata": {
    "colab": {
     "base_uri": "https://localhost:8080/",
     "height": 350
    },
    "executionInfo": {
     "elapsed": 2409,
     "status": "ok",
     "timestamp": 1607013979699,
     "user": {
      "displayName": "J.A DATATECH CONSULTING",
      "photoUrl": "https://lh3.googleusercontent.com/a-/AOh14Gi9wsjK7psnF8z3uOCEcA2yFkP2ckMODUtZxShO=s64",
      "userId": "06410945177748020218"
     },
     "user_tz": -60
    },
    "id": "VOrogNgZRsR1",
    "outputId": "9d014969-6e26-41b2-8de6-e501c3875029"
   },
   "outputs": [
    {
     "data": {
      "image/png": "[encoded data removed]",
      "text/plain": [
       "<Figure size 432x288 with 1 Axes>"
      ]
     },
     "metadata": {
      "needs_background": "light"
     },
     "output_type": "display_data"
    }
   ],
   "source": [
    "# Densité de probabilité du montant total de la consommation\n",
    "\n",
    "sns.distplot(tips_df[\"total_bill\"], kde = True, hist = False).set_title(\"Consommation totale\");"
   ]
  },
  {
   "cell_type": "code",
   "execution_count": 16,
   "metadata": {
    "colab": {
     "base_uri": "https://localhost:8080/",
     "height": 350
    },
    "executionInfo": {
     "elapsed": 2796,
     "status": "ok",
     "timestamp": 1607013980096,
     "user": {
      "displayName": "J.A DATATECH CONSULTING",
      "photoUrl": "https://lh3.googleusercontent.com/a-/AOh14Gi9wsjK7psnF8z3uOCEcA2yFkP2ckMODUtZxShO=s64",
      "userId": "06410945177748020218"
     },
     "user_tz": -60
    },
    "id": "OTlttHyTRlv7",
    "outputId": "b91e62f1-43a6-42f2-db08-28a2b485788e"
   },
   "outputs": [
    {
     "data": {
      "image/png": "[encoded data removed]",
      "text/plain": [
       "<Figure size 432x288 with 1 Axes>"
      ]
     },
     "metadata": {
      "needs_background": "light"
     },
     "output_type": "display_data"
    }
   ],
   "source": [
    "# Histogramme et Densité de probabilité du montant total de la consommation\n",
    "\n",
    "sns.distplot(tips_df[\"total_bill\"], kde = True).set_title(\"Consommation totale\");"
   ]
  },
  {
   "cell_type": "markdown",
   "metadata": {
    "id": "wHjWcTf-SHe0"
   },
   "source": [
    "# <font color=red> Description d'un histogramme"
   ]
  },
  {
   "cell_type": "markdown",
   "metadata": {
    "id": "pskJpbDWR518"
   },
   "source": [
    "Pour décrire un histogramme, vous devez faire ressortir nécessairement 04 aspects importants : \n",
    "\n",
    "* **forme** de l'histogramme : c'est l'apparence globale de l'histogramme. Vous devez dire si elle est symétrique, en forme de cloche (loi normale), asymétrique positive (c'est-à-dire forme étalée vers la droite) ou asymétre négative (c'est-à-dire forme étalée vers la gauche.) ;\n",
    "\n",
    "* **centre** de la distribution : médiane ;\n",
    "\n",
    "* **dispersion** des valeurs : à ce niveau, vous devez interpréter la variabilité dans les données en utilisant la variance, l'écart-type ou l'IQR ;\n",
    "\n",
    "* **outliers** (en Anglais) ou valeurs abérantes : ce sont des valeurs dui sortent du lot c'est-à-dire qui sont très loin du centre de gravité des données."
   ]
  },
  {
   "cell_type": "markdown",
   "metadata": {
    "id": "v0VNNqH8TzO7"
   },
   "source": [
    "Avant de décrire la distribution de la consommation totale, faisons un petit rappel sur la loi normale."
   ]
  },
  {
   "cell_type": "code",
   "execution_count": 17,
   "metadata": {
    "colab": {
     "base_uri": "https://localhost:8080/",
     "height": 334
    },
    "executionInfo": {
     "elapsed": 3052,
     "status": "ok",
     "timestamp": 1607013980361,
     "user": {
      "displayName": "J.A DATATECH CONSULTING",
      "photoUrl": "https://lh3.googleusercontent.com/a-/AOh14Gi9wsjK7psnF8z3uOCEcA2yFkP2ckMODUtZxShO=s64",
      "userId": "06410945177748020218"
     },
     "user_tz": -60
    },
    "id": "VkktDxeNTwee",
    "outputId": "29c8184b-90da-4a25-9b7a-211607034e9f"
   },
   "outputs": [
    {
     "data": {
      "image/png": "[encoded data removed]",
      "text/plain": [
       "<Figure size 432x288 with 1 Axes>"
      ]
     },
     "metadata": {
      "needs_background": "light"
     },
     "output_type": "display_data"
    }
   ],
   "source": [
    "# Exemple de distribution normale\n",
    "\n",
    "sns.distplot(np.random.normal(size=10000), kde=True).set_title(\"Distribution normale\");"
   ]
  },
  {
   "cell_type": "markdown",
   "metadata": {
    "id": "qjZNi83caiPh"
   },
   "source": [
    "Quelques caractéristiques d'une distribution normale :\n",
    "\n",
    "*  **forme en cloche** ;\n",
    "\n",
    "* **distribution symétrique (donc le coefficient d'asymétrie est égal à 0)** ;\n",
    "\n",
    "* **La moyenne est égale à la médiane** ;\n",
    "\n",
    "* Etc.\n",
    "\n",
    "Voici une description de la distribution de la consommation totale dans le restaurant :\n",
    "\n",
    "**La distribution de la consommation totale dans ce restaurant est unimodale et asymétrique vers la droite centrée à environ 15 u.m (unité de monnaie) avec la plupart des données entre 2 et 50 et apparemment aucune valeur aberrante**.\n",
    "\n",
    "Lorsque vous combinez les statistiques descriptives et l'histogramme, vous pouvez décrire de manière plus précise la distribution du montant total de la consommation dans ce restaurant :\n",
    "\n",
    "**La distribution du montant total de la consommation dans ce restaurant est unimodale et asymétrique vers la droite , centrée à 17,795 u.m avec la plupart des valeurs entre 13,35 u.m (1er quartile) et 24,13 u.m (3è quartile) et apparemment aucune valeur aberrante**.\n",
    "\n",
    "Remarquez l'utilisation du 1er quartile et du 3è quartile plutôt que de la simple étendue (minimum et maximum). En effet, en face d'une distribution asymétrique, il est conseillé d'utilisé l'IQR dans la description plutôt que d'utiliser l'étendue. Par ailleurs, l'IQR est plus robuste aux valeurs abérantes que l'étendue. La médiane est aussi plus robuste aux valeurs abérantes que la moyenne."
   ]
  }
 ],
 "metadata": {
  "colab": {
   "authorship_tag": "ABX9TyOFqfFNNxvoGNnRvmrDw5WY",
   "collapsed_sections": [],
   "name": "2_Analyse univariée.ipynb",
   "provenance": []
  },
  "kernelspec": {
   "display_name": "Python 3",
   "language": "python",
   "name": "python3"
  },
  "language_info": {
   "codemirror_mode": {
    "name": "ipython",
    "version": 3
   },
   "file_extension": ".py",
   "mimetype": "text/x-python",
   "name": "python",
   "nbconvert_exporter": "python",
   "pygments_lexer": "ipython3",
   "version": "3.7.6"
  }
 },
 "nbformat": 4,
 "nbformat_minor": 1
}
