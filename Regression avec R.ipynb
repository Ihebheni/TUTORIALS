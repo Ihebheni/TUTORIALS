{
 "cells": [
  {
   "cell_type": "markdown",
   "id": "rough-idaho",
   "metadata": {},
   "source": [
    "# <center>**MODELISATION PREDICTIVE DANS R AVEC LE PACKAGE CARET : REGRESSION**\n",
    "\n",
    "<center>Par Josué AFOUDA"
   ]
  },
  {
   "cell_type": "markdown",
   "id": "floppy-absence",
   "metadata": {},
   "source": [
    "# <font color=red> Importation des packages et des données"
   ]
  },
  {
   "cell_type": "markdown",
   "id": "systematic-resistance",
   "metadata": {},
   "source": [
    "La librairie [caret](https://www.rdocumentation.org/packages/caret/versions/4.47) est l'un des packages de R les plus utilisés en apprentissage automatique supervisé. C'est principalement cette librairie que nous utiliserons dans cette formation."
   ]
  },
  {
   "cell_type": "code",
   "execution_count": 1,
   "id": "afraid-degree",
   "metadata": {},
   "outputs": [
    {
     "name": "stderr",
     "output_type": "stream",
     "text": [
      "Loading required package: lattice\n",
      "Loading required package: ggplot2\n",
      "Registered S3 methods overwritten by 'ggplot2':\n",
      "  method         from \n",
      "  [.quosures     rlang\n",
      "  c.quosures     rlang\n",
      "  print.quosures rlang\n"
     ]
    }
   ],
   "source": [
    "# Packages\n",
    "\n",
    "library(caret)"
   ]
  },
  {
   "cell_type": "markdown",
   "id": "smooth-oxide",
   "metadata": {},
   "source": [
    "L'ensemble de données que nous utiliserons contient des informations sur les caractéristiques de certaines maisons dans la région de Boston. Il s’agira de construire un modèle de régression linéaire capable de prédire le prix d’une maison en fonction de certains de ses attributs."
   ]
  },
  {
   "cell_type": "code",
   "execution_count": 2,
   "id": "municipal-singles",
   "metadata": {},
   "outputs": [
    {
     "data": {
      "text/html": [
       "<table>\n",
       "<thead><tr><th scope=col>CRIM</th><th scope=col>ZN</th><th scope=col>INDUS</th><th scope=col>CHAS</th><th scope=col>NOX</th><th scope=col>RM</th><th scope=col>AGE</th><th scope=col>DIS</th><th scope=col>RAD</th><th scope=col>TAX</th><th scope=col>PTRATIO</th><th scope=col>LSTAT</th><th scope=col>MEDV</th></tr></thead>\n",
       "<tbody>\n",
       "\t<tr><td>0.00632</td><td>18     </td><td>2.31   </td><td>0      </td><td>0.538  </td><td>6.575  </td><td>65.2   </td><td>4.0900 </td><td>1      </td><td>296    </td><td>15.3   </td><td>4.98   </td><td>24.0   </td></tr>\n",
       "\t<tr><td>0.02731</td><td> 0     </td><td>7.07   </td><td>0      </td><td>0.469  </td><td>6.421  </td><td>78.9   </td><td>4.9671 </td><td>2      </td><td>242    </td><td>17.8   </td><td>9.14   </td><td>21.6   </td></tr>\n",
       "\t<tr><td>0.02729</td><td> 0     </td><td>7.07   </td><td>0      </td><td>0.469  </td><td>7.185  </td><td>61.1   </td><td>4.9671 </td><td>2      </td><td>242    </td><td>17.8   </td><td>4.03   </td><td>34.7   </td></tr>\n",
       "\t<tr><td>0.03237</td><td> 0     </td><td>2.18   </td><td>0      </td><td>0.458  </td><td>6.998  </td><td>45.8   </td><td>6.0622 </td><td>3      </td><td>222    </td><td>18.7   </td><td>2.94   </td><td>33.4   </td></tr>\n",
       "\t<tr><td>0.06905</td><td> 0     </td><td>2.18   </td><td>0      </td><td>0.458  </td><td>7.147  </td><td>54.2   </td><td>6.0622 </td><td>3      </td><td>222    </td><td>18.7   </td><td>5.33   </td><td>36.2   </td></tr>\n",
       "\t<tr><td>0.02985</td><td> 0     </td><td>2.18   </td><td>0      </td><td>0.458  </td><td>6.430  </td><td>58.7   </td><td>6.0622 </td><td>3      </td><td>222    </td><td>18.7   </td><td>5.21   </td><td>28.7   </td></tr>\n",
       "</tbody>\n",
       "</table>\n"
      ],
      "text/latex": [
       "\\begin{tabular}{r|lllllllllllll}\n",
       " CRIM & ZN & INDUS & CHAS & NOX & RM & AGE & DIS & RAD & TAX & PTRATIO & LSTAT & MEDV\\\\\n",
       "\\hline\n",
       "\t 0.00632 & 18      & 2.31    & 0       & 0.538   & 6.575   & 65.2    & 4.0900  & 1       & 296     & 15.3    & 4.98    & 24.0   \\\\\n",
       "\t 0.02731 &  0      & 7.07    & 0       & 0.469   & 6.421   & 78.9    & 4.9671  & 2       & 242     & 17.8    & 9.14    & 21.6   \\\\\n",
       "\t 0.02729 &  0      & 7.07    & 0       & 0.469   & 7.185   & 61.1    & 4.9671  & 2       & 242     & 17.8    & 4.03    & 34.7   \\\\\n",
       "\t 0.03237 &  0      & 2.18    & 0       & 0.458   & 6.998   & 45.8    & 6.0622  & 3       & 222     & 18.7    & 2.94    & 33.4   \\\\\n",
       "\t 0.06905 &  0      & 2.18    & 0       & 0.458   & 7.147   & 54.2    & 6.0622  & 3       & 222     & 18.7    & 5.33    & 36.2   \\\\\n",
       "\t 0.02985 &  0      & 2.18    & 0       & 0.458   & 6.430   & 58.7    & 6.0622  & 3       & 222     & 18.7    & 5.21    & 28.7   \\\\\n",
       "\\end{tabular}\n"
      ],
      "text/markdown": [
       "\n",
       "| CRIM | ZN | INDUS | CHAS | NOX | RM | AGE | DIS | RAD | TAX | PTRATIO | LSTAT | MEDV |\n",
       "|---|---|---|---|---|---|---|---|---|---|---|---|---|\n",
       "| 0.00632 | 18      | 2.31    | 0       | 0.538   | 6.575   | 65.2    | 4.0900  | 1       | 296     | 15.3    | 4.98    | 24.0    |\n",
       "| 0.02731 |  0      | 7.07    | 0       | 0.469   | 6.421   | 78.9    | 4.9671  | 2       | 242     | 17.8    | 9.14    | 21.6    |\n",
       "| 0.02729 |  0      | 7.07    | 0       | 0.469   | 7.185   | 61.1    | 4.9671  | 2       | 242     | 17.8    | 4.03    | 34.7    |\n",
       "| 0.03237 |  0      | 2.18    | 0       | 0.458   | 6.998   | 45.8    | 6.0622  | 3       | 222     | 18.7    | 2.94    | 33.4    |\n",
       "| 0.06905 |  0      | 2.18    | 0       | 0.458   | 7.147   | 54.2    | 6.0622  | 3       | 222     | 18.7    | 5.33    | 36.2    |\n",
       "| 0.02985 |  0      | 2.18    | 0       | 0.458   | 6.430   | 58.7    | 6.0622  | 3       | 222     | 18.7    | 5.21    | 28.7    |\n",
       "\n"
      ],
      "text/plain": [
       "  CRIM    ZN INDUS CHAS NOX   RM    AGE  DIS    RAD TAX PTRATIO LSTAT MEDV\n",
       "1 0.00632 18 2.31  0    0.538 6.575 65.2 4.0900 1   296 15.3    4.98  24.0\n",
       "2 0.02731  0 7.07  0    0.469 6.421 78.9 4.9671 2   242 17.8    9.14  21.6\n",
       "3 0.02729  0 7.07  0    0.469 7.185 61.1 4.9671 2   242 17.8    4.03  34.7\n",
       "4 0.03237  0 2.18  0    0.458 6.998 45.8 6.0622 3   222 18.7    2.94  33.4\n",
       "5 0.06905  0 2.18  0    0.458 7.147 54.2 6.0622 3   222 18.7    5.33  36.2\n",
       "6 0.02985  0 2.18  0    0.458 6.430 58.7 6.0622 3   222 18.7    5.21  28.7"
      ]
     },
     "metadata": {},
     "output_type": "display_data"
    }
   ],
   "source": [
    "# Importation des données\n",
    "\n",
    "boston <- read.csv('https://raw.githubusercontent.com/JosueAfouda/Machine-Learning-par-la-pratique-avec-Python/master/Boston.csv')\n",
    "\n",
    "head(boston)"
   ]
  },
  {
   "cell_type": "code",
   "execution_count": 3,
   "id": "eligible-subscriber",
   "metadata": {},
   "outputs": [
    {
     "name": "stdout",
     "output_type": "stream",
     "text": [
      "'data.frame':\t506 obs. of  13 variables:\n",
      " $ CRIM   : num  0.00632 0.02731 0.02729 0.03237 0.06905 ...\n",
      " $ ZN     : num  18 0 0 0 0 0 12.5 12.5 12.5 12.5 ...\n",
      " $ INDUS  : num  2.31 7.07 7.07 2.18 2.18 2.18 7.87 7.87 7.87 7.87 ...\n",
      " $ CHAS   : int  0 0 0 0 0 0 0 0 0 0 ...\n",
      " $ NOX    : num  0.538 0.469 0.469 0.458 0.458 0.458 0.524 0.524 0.524 0.524 ...\n",
      " $ RM     : num  6.58 6.42 7.18 7 7.15 ...\n",
      " $ AGE    : num  65.2 78.9 61.1 45.8 54.2 58.7 66.6 96.1 100 85.9 ...\n",
      " $ DIS    : num  4.09 4.97 4.97 6.06 6.06 ...\n",
      " $ RAD    : int  1 2 2 3 3 3 5 5 5 5 ...\n",
      " $ TAX    : int  296 242 242 222 222 222 311 311 311 311 ...\n",
      " $ PTRATIO: num  15.3 17.8 17.8 18.7 18.7 18.7 15.2 15.2 15.2 15.2 ...\n",
      " $ LSTAT  : num  4.98 9.14 4.03 2.94 5.33 ...\n",
      " $ MEDV   : num  24 21.6 34.7 33.4 36.2 28.7 22.9 27.1 16.5 18.9 ...\n"
     ]
    }
   ],
   "source": [
    "# Structure des données\n",
    "\n",
    "str(boston)"
   ]
  },
  {
   "cell_type": "code",
   "execution_count": 4,
   "id": "abstract-introduction",
   "metadata": {},
   "outputs": [
    {
     "data": {
      "text/plain": [
       "      CRIM                ZN             INDUS            CHAS        \n",
       " Min.   : 0.00632   Min.   :  0.00   Min.   : 0.46   Min.   :0.00000  \n",
       " 1st Qu.: 0.08204   1st Qu.:  0.00   1st Qu.: 5.19   1st Qu.:0.00000  \n",
       " Median : 0.25651   Median :  0.00   Median : 9.69   Median :0.00000  \n",
       " Mean   : 3.61352   Mean   : 11.36   Mean   :11.14   Mean   :0.06917  \n",
       " 3rd Qu.: 3.67708   3rd Qu.: 12.50   3rd Qu.:18.10   3rd Qu.:0.00000  \n",
       " Max.   :88.97620   Max.   :100.00   Max.   :27.74   Max.   :1.00000  \n",
       "      NOX               RM             AGE              DIS        \n",
       " Min.   :0.3850   Min.   :3.561   Min.   :  2.90   Min.   : 1.130  \n",
       " 1st Qu.:0.4490   1st Qu.:5.886   1st Qu.: 45.02   1st Qu.: 2.100  \n",
       " Median :0.5380   Median :6.208   Median : 77.50   Median : 3.207  \n",
       " Mean   :0.5547   Mean   :6.285   Mean   : 68.57   Mean   : 3.795  \n",
       " 3rd Qu.:0.6240   3rd Qu.:6.623   3rd Qu.: 94.08   3rd Qu.: 5.188  \n",
       " Max.   :0.8710   Max.   :8.780   Max.   :100.00   Max.   :12.127  \n",
       "      RAD              TAX           PTRATIO          LSTAT      \n",
       " Min.   : 1.000   Min.   :187.0   Min.   :12.60   Min.   : 1.73  \n",
       " 1st Qu.: 4.000   1st Qu.:279.0   1st Qu.:17.40   1st Qu.: 6.95  \n",
       " Median : 5.000   Median :330.0   Median :19.05   Median :11.36  \n",
       " Mean   : 9.549   Mean   :408.2   Mean   :18.46   Mean   :12.65  \n",
       " 3rd Qu.:24.000   3rd Qu.:666.0   3rd Qu.:20.20   3rd Qu.:16.95  \n",
       " Max.   :24.000   Max.   :711.0   Max.   :22.00   Max.   :37.97  \n",
       "      MEDV      \n",
       " Min.   : 5.00  \n",
       " 1st Qu.:17.02  \n",
       " Median :21.20  \n",
       " Mean   :22.53  \n",
       " 3rd Qu.:25.00  \n",
       " Max.   :50.00  "
      ]
     },
     "metadata": {},
     "output_type": "display_data"
    }
   ],
   "source": [
    "# Résumé statistique\n",
    "\n",
    "summary(boston)"
   ]
  },
  {
   "cell_type": "markdown",
   "id": "continent-expression",
   "metadata": {},
   "source": [
    "La dataframe contient 506 lignes (chaque ligne représente une maison) et 13 variables. Pour\n",
    "comprendre la signification de chaque variable, veuillez-vous reporter à la [page descriptive](https://raw.githubusercontent.com/JosueAfouda/Boston-Housing/master/housing.names)\n",
    "de ces données. La variable ***MEDV*** est notre variable d’intérêt. Elle indique le prix\n",
    "des maisons en millier de dollars.\n",
    "\n",
    "Apparemment, il n’y a pas de valeurs manquantes dans la dataframe. "
   ]
  },
  {
   "cell_type": "markdown",
   "id": "written-timer",
   "metadata": {},
   "source": [
    "# <font color=red> Données d'entraînement et d'évaluation (*Train/Test*)"
   ]
  },
  {
   "cell_type": "code",
   "execution_count": 5,
   "id": "developed-sussex",
   "metadata": {},
   "outputs": [
    {
     "data": {
      "text/html": [
       "<table>\n",
       "<thead><tr><th></th><th scope=col>CRIM</th><th scope=col>ZN</th><th scope=col>INDUS</th><th scope=col>CHAS</th><th scope=col>NOX</th><th scope=col>RM</th><th scope=col>AGE</th><th scope=col>DIS</th><th scope=col>RAD</th><th scope=col>TAX</th><th scope=col>PTRATIO</th><th scope=col>LSTAT</th><th scope=col>MEDV</th></tr></thead>\n",
       "<tbody>\n",
       "\t<tr><th scope=row>415</th><td>45.74610</td><td> 0      </td><td>18.10   </td><td>0       </td><td>0.693   </td><td>4.519   </td><td>100.0   </td><td>1.6582  </td><td>24      </td><td>666     </td><td>20.2    </td><td>36.98   </td><td> 7.0    </td></tr>\n",
       "\t<tr><th scope=row>463</th><td> 6.65492</td><td> 0      </td><td>18.10   </td><td>0       </td><td>0.713   </td><td>6.317   </td><td> 83.0   </td><td>2.7344  </td><td>24      </td><td>666     </td><td>20.2    </td><td>13.99   </td><td>19.5    </td></tr>\n",
       "\t<tr><th scope=row>179</th><td> 0.06642</td><td> 0      </td><td> 4.05   </td><td>0       </td><td>0.510   </td><td>6.860   </td><td> 74.4   </td><td>2.9153  </td><td> 5      </td><td>296     </td><td>16.6    </td><td> 6.92   </td><td>29.9    </td></tr>\n",
       "\t<tr><th scope=row>14</th><td> 0.62976</td><td> 0      </td><td> 8.14   </td><td>0       </td><td>0.538   </td><td>5.949   </td><td> 61.8   </td><td>4.7075  </td><td> 4      </td><td>307     </td><td>21.0    </td><td> 8.26   </td><td>20.4    </td></tr>\n",
       "\t<tr><th scope=row>195</th><td> 0.01439</td><td>60      </td><td> 2.93   </td><td>0       </td><td>0.401   </td><td>6.604   </td><td> 18.8   </td><td>6.2196  </td><td> 1      </td><td>265     </td><td>15.6    </td><td> 4.38   </td><td>29.1    </td></tr>\n",
       "\t<tr><th scope=row>426</th><td>15.86030</td><td> 0      </td><td>18.10   </td><td>0       </td><td>0.679   </td><td>5.896   </td><td> 95.4   </td><td>1.9096  </td><td>24      </td><td>666     </td><td>20.2    </td><td>24.39   </td><td> 8.3    </td></tr>\n",
       "</tbody>\n",
       "</table>\n"
      ],
      "text/latex": [
       "\\begin{tabular}{r|lllllllllllll}\n",
       "  & CRIM & ZN & INDUS & CHAS & NOX & RM & AGE & DIS & RAD & TAX & PTRATIO & LSTAT & MEDV\\\\\n",
       "\\hline\n",
       "\t415 & 45.74610 &  0       & 18.10    & 0        & 0.693    & 4.519    & 100.0    & 1.6582   & 24       & 666      & 20.2     & 36.98    &  7.0    \\\\\n",
       "\t463 &  6.65492 &  0       & 18.10    & 0        & 0.713    & 6.317    &  83.0    & 2.7344   & 24       & 666      & 20.2     & 13.99    & 19.5    \\\\\n",
       "\t179 &  0.06642 &  0       &  4.05    & 0        & 0.510    & 6.860    &  74.4    & 2.9153   &  5       & 296      & 16.6     &  6.92    & 29.9    \\\\\n",
       "\t14 &  0.62976 &  0       &  8.14    & 0        & 0.538    & 5.949    &  61.8    & 4.7075   &  4       & 307      & 21.0     &  8.26    & 20.4    \\\\\n",
       "\t195 &  0.01439 & 60       &  2.93    & 0        & 0.401    & 6.604    &  18.8    & 6.2196   &  1       & 265      & 15.6     &  4.38    & 29.1    \\\\\n",
       "\t426 & 15.86030 &  0       & 18.10    & 0        & 0.679    & 5.896    &  95.4    & 1.9096   & 24       & 666      & 20.2     & 24.39    &  8.3    \\\\\n",
       "\\end{tabular}\n"
      ],
      "text/markdown": [
       "\n",
       "| <!--/--> | CRIM | ZN | INDUS | CHAS | NOX | RM | AGE | DIS | RAD | TAX | PTRATIO | LSTAT | MEDV |\n",
       "|---|---|---|---|---|---|---|---|---|---|---|---|---|---|\n",
       "| 415 | 45.74610 |  0       | 18.10    | 0        | 0.693    | 4.519    | 100.0    | 1.6582   | 24       | 666      | 20.2     | 36.98    |  7.0     |\n",
       "| 463 |  6.65492 |  0       | 18.10    | 0        | 0.713    | 6.317    |  83.0    | 2.7344   | 24       | 666      | 20.2     | 13.99    | 19.5     |\n",
       "| 179 |  0.06642 |  0       |  4.05    | 0        | 0.510    | 6.860    |  74.4    | 2.9153   |  5       | 296      | 16.6     |  6.92    | 29.9     |\n",
       "| 14 |  0.62976 |  0       |  8.14    | 0        | 0.538    | 5.949    |  61.8    | 4.7075   |  4       | 307      | 21.0     |  8.26    | 20.4     |\n",
       "| 195 |  0.01439 | 60       |  2.93    | 0        | 0.401    | 6.604    |  18.8    | 6.2196   |  1       | 265      | 15.6     |  4.38    | 29.1     |\n",
       "| 426 | 15.86030 |  0       | 18.10    | 0        | 0.679    | 5.896    |  95.4    | 1.9096   | 24       | 666      | 20.2     | 24.39    |  8.3     |\n",
       "\n"
      ],
      "text/plain": [
       "    CRIM     ZN INDUS CHAS NOX   RM    AGE   DIS    RAD TAX PTRATIO LSTAT MEDV\n",
       "415 45.74610  0 18.10 0    0.693 4.519 100.0 1.6582 24  666 20.2    36.98  7.0\n",
       "463  6.65492  0 18.10 0    0.713 6.317  83.0 2.7344 24  666 20.2    13.99 19.5\n",
       "179  0.06642  0  4.05 0    0.510 6.860  74.4 2.9153  5  296 16.6     6.92 29.9\n",
       "14   0.62976  0  8.14 0    0.538 5.949  61.8 4.7075  4  307 21.0     8.26 20.4\n",
       "195  0.01439 60  2.93 0    0.401 6.604  18.8 6.2196  1  265 15.6     4.38 29.1\n",
       "426 15.86030  0 18.10 0    0.679 5.896  95.4 1.9096 24  666 20.2    24.39  8.3"
      ]
     },
     "metadata": {},
     "output_type": "display_data"
    }
   ],
   "source": [
    "# Mélange aléatoire des données\n",
    "\n",
    "seed <- 123\n",
    "\n",
    "set.seed(seed)\n",
    "\n",
    "rows <- sample(nrow(boston))\n",
    "\n",
    "boston_mel <- boston[rows, ]\n",
    "\n",
    "head(boston_mel)"
   ]
  },
  {
   "cell_type": "code",
   "execution_count": 6,
   "id": "wireless-language",
   "metadata": {},
   "outputs": [],
   "source": [
    "# Division en données d'entraînement (80%) et Données d'évaluation (20%)\n",
    "\n",
    "split <- round(nrow(boston_mel) * 0.80)\n",
    "\n",
    "# Train data\n",
    "\n",
    "train <- boston_mel[1:split, ]\n",
    "\n",
    "# Test data\n",
    "\n",
    "test <- boston_mel[(split + 1):nrow(boston_mel), ]"
   ]
  },
  {
   "cell_type": "code",
   "execution_count": 7,
   "id": "valid-university",
   "metadata": {},
   "outputs": [
    {
     "data": {
      "text/html": [
       "<ol class=list-inline>\n",
       "\t<li>405</li>\n",
       "\t<li>13</li>\n",
       "</ol>\n"
      ],
      "text/latex": [
       "\\begin{enumerate*}\n",
       "\\item 405\n",
       "\\item 13\n",
       "\\end{enumerate*}\n"
      ],
      "text/markdown": [
       "1. 405\n",
       "2. 13\n",
       "\n",
       "\n"
      ],
      "text/plain": [
       "[1] 405  13"
      ]
     },
     "metadata": {},
     "output_type": "display_data"
    }
   ],
   "source": [
    "# Dimension du train data\n",
    "\n",
    "dim(train)"
   ]
  },
  {
   "cell_type": "code",
   "execution_count": 8,
   "id": "public-satin",
   "metadata": {},
   "outputs": [
    {
     "data": {
      "text/html": [
       "<ol class=list-inline>\n",
       "\t<li>101</li>\n",
       "\t<li>13</li>\n",
       "</ol>\n"
      ],
      "text/latex": [
       "\\begin{enumerate*}\n",
       "\\item 101\n",
       "\\item 13\n",
       "\\end{enumerate*}\n"
      ],
      "text/markdown": [
       "1. 101\n",
       "2. 13\n",
       "\n",
       "\n"
      ],
      "text/plain": [
       "[1] 101  13"
      ]
     },
     "metadata": {},
     "output_type": "display_data"
    }
   ],
   "source": [
    "# Dimension du test data\n",
    "\n",
    "dim(test)"
   ]
  },
  {
   "cell_type": "markdown",
   "id": "sporting-royal",
   "metadata": {},
   "source": [
    "# <font color=red> Modèle et calcul de l'erreur quadratique moyenne"
   ]
  },
  {
   "cell_type": "code",
   "execution_count": 9,
   "id": "fleet-secondary",
   "metadata": {},
   "outputs": [
    {
     "data": {
      "text/plain": [
       "\n",
       "Call:\n",
       "lm(formula = MEDV ~ ., data = train)\n",
       "\n",
       "Coefficients:\n",
       "(Intercept)         CRIM           ZN        INDUS         CHAS          NOX  \n",
       "   43.92193     -0.11340      0.04921      0.01164      3.19107    -19.12204  \n",
       "         RM          AGE          DIS          RAD          TAX      PTRATIO  \n",
       "    3.32900      0.01363     -1.47708      0.30445     -0.01190     -0.96944  \n",
       "      LSTAT  \n",
       "   -0.61274  \n"
      ]
     },
     "metadata": {},
     "output_type": "display_data"
    }
   ],
   "source": [
    "# Construction du modèle à partir des données d'entraînement\n",
    "\n",
    "model <- lm(MEDV ~., data = train)\n",
    "\n",
    "# Affichage du modèle\n",
    "\n",
    "model"
   ]
  },
  {
   "cell_type": "markdown",
   "id": "opposed-moscow",
   "metadata": {},
   "source": [
    "Passons à l'évaluation de la performance du modèle. Il s'agit de vérifier la capacité du modèle sur des données qui n'ont pas servi à son entraînement c'est-à-dire sa capacité à se généraliser."
   ]
  },
  {
   "cell_type": "code",
   "execution_count": 10,
   "id": "constitutional-montreal",
   "metadata": {},
   "outputs": [],
   "source": [
    "# Création d'une Fonction d'évaluation de modèle\n",
    "\n",
    "model_evaluation <- function (Model) {\n",
    "    \n",
    "    # Prédiction sur le train data\n",
    "    \n",
    "    preds_train <- predict(Model, train)\n",
    "    \n",
    "    # Prédictions sur le test data\n",
    "    \n",
    "    preds_test <- predict(Model, test)\n",
    "    \n",
    "    # Erreur sur le train data\n",
    "    \n",
    "    error_train <- preds_train - train[, \"MEDV\"]\n",
    "    \n",
    "    # Erreur sur le test data\n",
    "    \n",
    "    error_test <- preds_test - test[, \"MEDV\"]\n",
    "    \n",
    "    # RMSE sur les train data\n",
    "    \n",
    "    rmse_train <- sqrt(mean(error_train ^ 2))\n",
    "    \n",
    "    # RMSE sur le test data\n",
    "    \n",
    "    rmse_test <- sqrt(mean(error_test ^ 2))\n",
    "    \n",
    "    print(paste(\"RMSE sur le train data :\", rmse_train))\n",
    "    \n",
    "    print(paste('RMSE sur le test data :', rmse_test))\n",
    "}"
   ]
  },
  {
   "cell_type": "code",
   "execution_count": 11,
   "id": "matched-pierce",
   "metadata": {},
   "outputs": [
    {
     "name": "stdout",
     "output_type": "stream",
     "text": [
      "[1] \"RMSE sur le train data : 4.67603405287116\"\n",
      "[1] \"RMSE sur le test data : 5.02971020858123\"\n"
     ]
    }
   ],
   "source": [
    "# Evaluation du modèle 'model'\n",
    "\n",
    "model_evaluation(model)"
   ]
  },
  {
   "cell_type": "markdown",
   "id": "smooth-guarantee",
   "metadata": {},
   "source": [
    "# <font color=red> Validation croisée simple"
   ]
  },
  {
   "cell_type": "markdown",
   "id": "subject-forest",
   "metadata": {},
   "source": [
    "En divisant nos données, nous avons pu évaluer la performance du modèle sur les données de test afin\n",
    "de nous assurer que le modèle est capable de bien s’ajuster à de nouvelles données. Mais, il y a\n",
    "un écueil dans ce processus. Les données de test peuvent avoir certaines particularités qui font\n",
    "que l’erreur quadratique moyenne ait donné telle ou telle autre valeur. Par exemple, la présence ou l'absence d'une valeur aberrante peut modifier considérablement la valeur de l'erreur quadratique moyenne aussi bien au niveau de l'ensemble d'entraînement que de l'ensemble d'évaluation. \n",
    "\n",
    "Donc la métrique d'évaluation calculée suite à une simple division aléatoire arbitraire n’est pas forcément représentative de la capacité du modèle à généraliser sur de\n",
    "nouvelles données. \n",
    "\n",
    "Une meilleure approche est l'utilisation de la technique de la **validation croisée** (***cross_validation***).\n",
    "\n",
    "Pour comprendre la technique de cross-validation :\n",
    "\n",
    "- Commençons par diviser la dataframe en 5 groupes ou plis ;\n",
    "\n",
    "- Ensuite, le premier pli est pris comme ensemble de test et l’algorithme est entraîné avec les 4 plis restants. On fait les prédictions sur l’ensemble de test puis on calcule la métrique d’évaluation du modèle ;\n",
    "\n",
    "- Le deuxième pli est maintenant utilisé comme ensemble de test et les 4 autres plis comme données d’entraînement ;\n",
    "\n",
    "- On fait de même jusqu’à ce que chacun des 5 plis ait été utilisé comme ensemble de test.\n",
    "\n",
    "Finalement, on se retrouve avec 5 modèles donc 5 métriques (*RMSE* par exemple) et on peut\n",
    "calculer des statistiques comme la moyenne ou la médiane de ces métriques. Au lieu de 5 plis,\n",
    "vous pouvez choisir *k* plis (***k-fold cross validation***) avec *k* un nombre entier naturel non null.\n",
    "\n",
    "Mais attention au nombre de plis car plus vous avez de plis, plus cela est coûteux en termes de\n",
    "calcul. La méthode de validation croisée nous permet d’éviter que la métrique d’évaluation\n",
    "choisie ne dépende du fractionnement arbitraire de la fonction *sample()*.\n",
    "\n",
    "Appliquons la technique de validation croisée avec 5 plis."
   ]
  },
  {
   "cell_type": "code",
   "execution_count": 12,
   "id": "competent-assignment",
   "metadata": {},
   "outputs": [
    {
     "data": {
      "text/plain": [
       "Linear Regression \n",
       "\n",
       "405 samples\n",
       " 12 predictor\n",
       "\n",
       "No pre-processing\n",
       "Resampling: Cross-Validated (5 fold) \n",
       "Summary of sample sizes: 324, 323, 324, 325, 324 \n",
       "Resampling results:\n",
       "\n",
       "  RMSE      Rsquared   MAE     \n",
       "  4.876903  0.7166239  3.417444\n",
       "\n",
       "Tuning parameter 'intercept' was held constant at a value of TRUE"
      ]
     },
     "metadata": {},
     "output_type": "display_data"
    }
   ],
   "source": [
    "# Modèle de régression avec validation croisée\n",
    "\n",
    "model_cv <- train(MEDV ~ ., \n",
    "                 data = train,\n",
    "                 method = \"lm\",\n",
    "                 trControl = trainControl(method = \"cv\",\n",
    "                                          number = 5\n",
    "                                         )\n",
    "                 )\n",
    "\n",
    "# Affichage du model\n",
    "\n",
    "model_cv"
   ]
  },
  {
   "cell_type": "code",
   "execution_count": 13,
   "id": "veterinary-classroom",
   "metadata": {},
   "outputs": [
    {
     "name": "stdout",
     "output_type": "stream",
     "text": [
      "[1] \"RMSE sur le train data : 4.67603405287116\"\n",
      "[1] \"RMSE sur le test data : 5.02971020858123\"\n"
     ]
    }
   ],
   "source": [
    "# Evaluation du modèle 'model_cv'\n",
    "\n",
    "model_evaluation(model_cv)"
   ]
  },
  {
   "cell_type": "markdown",
   "id": "occupational-imagination",
   "metadata": {},
   "source": [
    "# <font color=red> Validation croisée répétée"
   ]
  },
  {
   "cell_type": "markdown",
   "id": "smaller-child",
   "metadata": {},
   "source": [
    "Il est possible de faire plus qu'une seule itération de validation croisée. La validation croisée répétée donne une meilleure estimation de la performance du modèle."
   ]
  },
  {
   "cell_type": "code",
   "execution_count": 14,
   "id": "civic-remains",
   "metadata": {},
   "outputs": [
    {
     "data": {
      "text/plain": [
       "Linear Regression \n",
       "\n",
       "405 samples\n",
       " 12 predictor\n",
       "\n",
       "No pre-processing\n",
       "Resampling: Cross-Validated (5 fold, repeated 5 times) \n",
       "Summary of sample sizes: 325, 325, 324, 323, 323, 323, ... \n",
       "Resampling results:\n",
       "\n",
       "  RMSE      Rsquared   MAE     \n",
       "  4.867522  0.7276673  3.416793\n",
       "\n",
       "Tuning parameter 'intercept' was held constant at a value of TRUE"
      ]
     },
     "metadata": {},
     "output_type": "display_data"
    }
   ],
   "source": [
    "# Modéle de régréssion avec répétition du processus de validation croisée\n",
    "\n",
    "model_cv2 <- train(MEDV ~ ., \n",
    "                 data = train,\n",
    "                 method = \"lm\",\n",
    "                 trControl = trainControl(method = \"repeatedcv\",\n",
    "                                          number = 5,\n",
    "                                          repeats = 5\n",
    "                                         )\n",
    "                 )\n",
    "\n",
    "# Affichage du modèle\n",
    "\n",
    "model_cv2"
   ]
  },
  {
   "cell_type": "code",
   "execution_count": 15,
   "id": "fitted-heart",
   "metadata": {},
   "outputs": [
    {
     "name": "stdout",
     "output_type": "stream",
     "text": [
      "[1] \"RMSE sur le train data : 4.67603405287116\"\n",
      "[1] \"RMSE sur le test data : 5.02971020858123\"\n"
     ]
    }
   ],
   "source": [
    "# Evaluation du modèle 'model_repeatcv'\n",
    "\n",
    "model_evaluation(model_cv2)"
   ]
  },
  {
   "cell_type": "markdown",
   "id": "selective-happiness",
   "metadata": {},
   "source": [
    "# <font color=red> Modèle sur des données prétraitées"
   ]
  },
  {
   "cell_type": "markdown",
   "id": "secondary-kentucky",
   "metadata": {},
   "source": [
    "Bien que les données ne contiennent pas de valeurs manquantes, elles nécessites quand même un petit prétraitement avat modélisation. En effet, les données ne sont pas à la même échelle et cela pourrait causer une mauvaise performance du modèle. \n",
    "\n",
    "L'argument ***preProcess*** de la fonction [train](https://www.rdocumentation.org/packages/caret/versions/4.47/topics/train) permet d'opérer très facilement plusieurs étapes de prétraitement des données avent modélisation."
   ]
  },
  {
   "cell_type": "code",
   "execution_count": 16,
   "id": "premium-intention",
   "metadata": {},
   "outputs": [
    {
     "name": "stderr",
     "output_type": "stream",
     "text": [
      "Warning message:\n",
      "\"In lm.fit(x, y, offset = offset, singular.ok = singular.ok, ...) :\n",
      " extra argument 'PreProcess' will be disregarded\"Warning message:\n",
      "\"In lm.fit(x, y, offset = offset, singular.ok = singular.ok, ...) :\n",
      " extra argument 'PreProcess' will be disregarded\"Warning message:\n",
      "\"In lm.fit(x, y, offset = offset, singular.ok = singular.ok, ...) :\n",
      " extra argument 'PreProcess' will be disregarded\"Warning message:\n",
      "\"In lm.fit(x, y, offset = offset, singular.ok = singular.ok, ...) :\n",
      " extra argument 'PreProcess' will be disregarded\"Warning message:\n",
      "\"In lm.fit(x, y, offset = offset, singular.ok = singular.ok, ...) :\n",
      " extra argument 'PreProcess' will be disregarded\"Warning message:\n",
      "\"In lm.fit(x, y, offset = offset, singular.ok = singular.ok, ...) :\n",
      " extra argument 'PreProcess' will be disregarded\""
     ]
    },
    {
     "data": {
      "text/plain": [
       "Linear Regression \n",
       "\n",
       "405 samples\n",
       " 12 predictor\n",
       "\n",
       "No pre-processing\n",
       "Resampling: Cross-Validated (5 fold) \n",
       "Summary of sample sizes: 324, 324, 324, 324, 324 \n",
       "Resampling results:\n",
       "\n",
       "  RMSE      Rsquared   MAE     \n",
       "  4.841974  0.7341165  3.421173\n",
       "\n",
       "Tuning parameter 'intercept' was held constant at a value of TRUE"
      ]
     },
     "metadata": {},
     "output_type": "display_data"
    }
   ],
   "source": [
    "# Standardisation des données avant modélisation\n",
    "\n",
    "\n",
    "model_stand <- train(MEDV ~ ., \n",
    "                 data = train,\n",
    "                 method = \"lm\",\n",
    "                 PreProcess = c(\"center\", \"scaler\"),\n",
    "                 trControl = trainControl(method = \"cv\",\n",
    "                                          number = 5\n",
    "                                         )\n",
    "                 )\n",
    "\n",
    "# Affichage du modèle\n",
    "\n",
    "model_stand"
   ]
  },
  {
   "cell_type": "code",
   "execution_count": 17,
   "id": "second-armenia",
   "metadata": {},
   "outputs": [
    {
     "name": "stdout",
     "output_type": "stream",
     "text": [
      "[1] \"RMSE sur le train data : 4.67603405287116\"\n",
      "[1] \"RMSE sur le test data : 5.02971020858123\"\n"
     ]
    }
   ],
   "source": [
    "# Evaluation du modèle 'model_stand'\n",
    "\n",
    "model_evaluation(model_stand)"
   ]
  },
  {
   "cell_type": "code",
   "execution_count": 18,
   "id": "inappropriate-digest",
   "metadata": {},
   "outputs": [
    {
     "name": "stderr",
     "output_type": "stream",
     "text": [
      "Warning message:\n",
      "\"In lm.fit(x, y, offset = offset, singular.ok = singular.ok, ...) :\n",
      " extra argument 'PreProcess' will be disregarded\"Warning message:\n",
      "\"In lm.fit(x, y, offset = offset, singular.ok = singular.ok, ...) :\n",
      " extra argument 'PreProcess' will be disregarded\"Warning message:\n",
      "\"In lm.fit(x, y, offset = offset, singular.ok = singular.ok, ...) :\n",
      " extra argument 'PreProcess' will be disregarded\"Warning message:\n",
      "\"In lm.fit(x, y, offset = offset, singular.ok = singular.ok, ...) :\n",
      " extra argument 'PreProcess' will be disregarded\"Warning message:\n",
      "\"In lm.fit(x, y, offset = offset, singular.ok = singular.ok, ...) :\n",
      " extra argument 'PreProcess' will be disregarded\"Warning message:\n",
      "\"In lm.fit(x, y, offset = offset, singular.ok = singular.ok, ...) :\n",
      " extra argument 'PreProcess' will be disregarded\""
     ]
    },
    {
     "data": {
      "text/plain": [
       "Linear Regression \n",
       "\n",
       "405 samples\n",
       " 12 predictor\n",
       "\n",
       "No pre-processing\n",
       "Resampling: Cross-Validated (5 fold) \n",
       "Summary of sample sizes: 324, 324, 325, 324, 323 \n",
       "Resampling results:\n",
       "\n",
       "  RMSE      Rsquared   MAE     \n",
       "  4.909677  0.7154149  3.465592\n",
       "\n",
       "Tuning parameter 'intercept' was held constant at a value of TRUE"
      ]
     },
     "metadata": {},
     "output_type": "display_data"
    }
   ],
   "source": [
    "# Standardisation et ACP des données avant modélisation\n",
    "\n",
    "model_pca <- train(MEDV ~ ., \n",
    "                 data = train,\n",
    "                 method = \"lm\",\n",
    "                 PreProcess = c(\"center\", \"scaler\", \"pca\"),\n",
    "                 trControl = trainControl(method = \"cv\",\n",
    "                                          number = 5\n",
    "                                         )\n",
    "                 )\n",
    "\n",
    "# Affichage du modèle\n",
    "\n",
    "model_pca"
   ]
  },
  {
   "cell_type": "code",
   "execution_count": 19,
   "id": "applied-merchandise",
   "metadata": {},
   "outputs": [
    {
     "name": "stdout",
     "output_type": "stream",
     "text": [
      "[1] \"RMSE sur le train data : 4.67603405287116\"\n",
      "[1] \"RMSE sur le test data : 5.02971020858123\"\n"
     ]
    }
   ],
   "source": [
    "# Evaluation du modèle 'model_pca'\n",
    "\n",
    "model_evaluation(model_pca)"
   ]
  }
 ],
 "metadata": {
  "kernelspec": {
   "display_name": "R",
   "language": "R",
   "name": "ir"
  },
  "language_info": {
   "codemirror_mode": "r",
   "file_extension": ".r",
   "mimetype": "text/x-r-source",
   "name": "R",
   "pygments_lexer": "r",
   "version": "3.6.1"
  }
 },
 "nbformat": 4,
 "nbformat_minor": 5
}
