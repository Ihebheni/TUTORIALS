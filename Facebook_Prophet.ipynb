{
  "nbformat": 4,
  "nbformat_minor": 0,
  "metadata": {
    "colab": {
      "name": "Facebook Prophet.ipynb",
      "provenance": [],
      "collapsed_sections": []
    },
    "kernelspec": {
      "name": "python3",
      "display_name": "Python 3"
    }
  },
  "cells": [
    {
      "cell_type": "markdown",
      "metadata": {
        "id": "mrG0EKYUXRoY"
      },
      "source": [
        "# <center> **PREVISIONS DE SERIES TEMPORELLES AVEC FACEBOOK PROPHET EN MOINS DE 10 MINUTES**\r\n",
        "\r\n",
        "<center>Par Josué AFOUDA"
      ]
    },
    {
      "cell_type": "markdown",
      "metadata": {
        "id": "I2yuemD1fzJC"
      },
      "source": [
        "# <font color=red> Problématique"
      ]
    },
    {
      "cell_type": "markdown",
      "metadata": {
        "id": "nJybgtoHf64S"
      },
      "source": [
        "* **Les besoins en prévision sont de plus en plus forts (Business, Recherche, Gouvernance, etc.)** ;\r\n",
        "\r\n",
        "* **Les algoritmes existant sont pour la plupart difficile à prendre en main, surtout pour des non-spécialistes, et répondent à un type précis de série temporelle** ;\r\n",
        "\r\n",
        "* **La modélisation de séries temporelles prend beaucoup de temps, ce qui constitue un manque à gagner en Entreprises (*Time is money*)**.\r\n",
        "\r\n",
        "Dès lors, il y a nécessité de trouver un outil qui peut résoudre tous ces problèmes rencontrés dans la modélisation des séries temporelles."
      ]
    },
    {
      "cell_type": "markdown",
      "metadata": {
        "id": "8LU1pxugiytH"
      },
      "source": [
        "# <font color=red> Facebook Prophet"
      ]
    },
    {
      "cell_type": "markdown",
      "metadata": {
        "id": "qhHwqLSli4se"
      },
      "source": [
        "«Prophet» est un outil open-source créé en 2017 par Facebook, disponible sur R et Python, qui aide les utilisateurs à analyser et prévoir les valeurs de séries chronologiques. \r\n",
        "\r\n",
        "Grâce aux efforts considérables de ses développeurs, Prophet rend conviviale la modélisation de séries temporelles même pour les non-experts. L'outil est aussi très personnalisable avec plusieurs fonctionnalités permettant de prendre en compte des situations particulières.\r\n",
        "\r\n",
        "Voici quelques qualités de Facebook Prophet :\r\n",
        "\r\n",
        "* **Robuste**, **Précis** et **Rapide** : Prophet permet la modélisation de séries temporelles à grande échelle ;\r\n",
        "\r\n",
        "* **Fiable** : des grandes entreprises comme Facebook mondiales l'utilisent pour leurs besoins de prévision ;\r\n",
        "\r\n",
        "* **Complètement automatique** : avec Prophet, vous pouvez même travailler avec des données présentant des valeurs manquantes. Plus besoin d'une phase intensive de nettoyage des données ;\r\n",
        "\r\n",
        "* **Très personnalisable** : il permet ainsi d'intégrer dans votre modélisation, votre connaissance du domaine ;\r\n",
        "\r\n",
        "* **Disponible sous R et Python** qui sont parmi les langages les plus utilisés en Science des Données."
      ]
    },
    {
      "cell_type": "markdown",
      "metadata": {
        "id": "EJPImZ5za2DY"
      },
      "source": [
        "# <font color=red> Importation des librairies et des données"
      ]
    },
    {
      "cell_type": "code",
      "metadata": {
        "id": "ZNPlTwMfbBbv"
      },
      "source": [
        "# Importation de pandas, DataReader, fbprophet et plotly.express\n",
        "\n",
        "import pandas as pd\n",
        "\n",
        "from pandas_datareader.data import DataReader\n",
        "\n",
        "from fbprophet import Prophet\n",
        "\n",
        "import plotly.express as px"
      ],
      "execution_count": 1,
      "outputs": []
    },
    {
      "cell_type": "markdown",
      "metadata": {
        "id": "vm891hCInhoP"
      },
      "source": [
        "Nous utiliserons les prix de clôture de l'indice S&P500 de fin 1999 à fin 2020.\r\n",
        "\r\n",
        "L'objectifs est de **prévoir les futurs prix pour l'année 2021 (horizon de 365 jours)**."
      ]
    },
    {
      "cell_type": "code",
      "metadata": {
        "id": "vezMkspZboYX"
      },
      "source": [
        "# Importation des données\r\n",
        "\r\n"
      ],
      "execution_count": null,
      "outputs": []
    },
    {
      "cell_type": "code",
      "metadata": {
        "id": "zA9eltJh0BVQ"
      },
      "source": [
        "# Création d'une colonne 'Dates'\r\n",
        "\r\n"
      ],
      "execution_count": 3,
      "outputs": []
    },
    {
      "cell_type": "code",
      "metadata": {
        "id": "xAifThcH8xUH"
      },
      "source": [
        "# Informations\r\n",
        "\r\n"
      ],
      "execution_count": null,
      "outputs": []
    },
    {
      "cell_type": "code",
      "metadata": {
        "id": "SQce0zkMROZw"
      },
      "source": [
        "# Statistique\r\n",
        "\r\n"
      ],
      "execution_count": null,
      "outputs": []
    },
    {
      "cell_type": "markdown",
      "metadata": {
        "id": "v3X8Z1fFb6or"
      },
      "source": [
        "# <font color=red> Visualisation des données"
      ]
    },
    {
      "cell_type": "code",
      "metadata": {
        "id": "2PKVDQq2ih4S"
      },
      "source": [
        "# Evolution de la précipitation annuelle au cours du temps\r\n",
        "\r\n"
      ],
      "execution_count": null,
      "outputs": []
    },
    {
      "cell_type": "code",
      "metadata": {
        "id": "Wr0QEYDM9AyV"
      },
      "source": [
        "# Boîte à moustache\r\n",
        "\r\n"
      ],
      "execution_count": null,
      "outputs": []
    },
    {
      "cell_type": "code",
      "metadata": {
        "id": "HrazeyXO0K6n"
      },
      "source": [
        "# Histogramme\r\n",
        "\r\n"
      ],
      "execution_count": null,
      "outputs": []
    },
    {
      "cell_type": "markdown",
      "metadata": {
        "id": "ASIJnLjScv9B"
      },
      "source": [
        "# <font color=red> Préparation des données"
      ]
    },
    {
      "cell_type": "markdown",
      "metadata": {
        "id": "93BOBeg1qQPe"
      },
      "source": [
        "La seule chose recquise pour appliquer Prophet à vos données est que la variable indiqant le temps soit nommée ***ds*** et que la vraible indiquant votre série temporelle soit nommée ***y***."
      ]
    },
    {
      "cell_type": "code",
      "metadata": {
        "id": "8VU3NvfDczau"
      },
      "source": [
        "# Renommer les colonnes\r\n",
        "\r\n"
      ],
      "execution_count": null,
      "outputs": []
    },
    {
      "cell_type": "markdown",
      "metadata": {
        "id": "j57-ly4Jc5va"
      },
      "source": [
        "# <font color=red> Modélisation"
      ]
    },
    {
      "cell_type": "code",
      "metadata": {
        "id": "GdFXAfTFc7iw"
      },
      "source": [
        "# Initialisation de l'algorithme\r\n",
        "\r\n",
        "\r\n",
        "\r\n",
        "# Entraînement de l'algorithme\r\n",
        "\r\n"
      ],
      "execution_count": null,
      "outputs": []
    },
    {
      "cell_type": "markdown",
      "metadata": {
        "id": "T-0eY9xOdA4S"
      },
      "source": [
        "# <font color=red> Prévisions"
      ]
    },
    {
      "cell_type": "code",
      "metadata": {
        "id": "qGPpV0kmdCjh"
      },
      "source": [
        "# Dataframe des prévisions\r\n",
        "\r\n"
      ],
      "execution_count": null,
      "outputs": []
    },
    {
      "cell_type": "code",
      "metadata": {
        "id": "19-Qc5qDdH8K"
      },
      "source": [
        "# Prévisions des prix de clôture\r\n",
        "\r\n"
      ],
      "execution_count": null,
      "outputs": []
    },
    {
      "cell_type": "code",
      "metadata": {
        "id": "WDJZnOhCUp5y"
      },
      "source": [
        "# Visualisation des résultats\r\n",
        "\r\n"
      ],
      "execution_count": null,
      "outputs": []
    },
    {
      "cell_type": "markdown",
      "metadata": {
        "id": "jnwZpXddU_5h"
      },
      "source": [
        "La courbe en bleue est pour les valeurs prédites ; celle en noire pour les valeurs observées et on a aussi l'intervalle de confiance."
      ]
    },
    {
      "cell_type": "code",
      "metadata": {
        "id": "2_Y6wfrWYZI6"
      },
      "source": [
        "# Composants\r\n",
        "\r\n"
      ],
      "execution_count": null,
      "outputs": []
    }
  ]
}