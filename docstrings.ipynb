{
  "nbformat": 4,
  "nbformat_minor": 0,
  "metadata": {
    "colab": {
      "name": "docstrings.ipynb",
      "provenance": [],
      "collapsed_sections": []
    },
    "kernelspec": {
      "name": "python3",
      "display_name": "Python 3"
    }
  },
  "cells": [
    {
      "cell_type": "markdown",
      "metadata": {
        "id": "VCWP5T-85dzM"
      },
      "source": [
        "# <font color=red> COMMENT BIEN DOCUMENTER LE CODE D'UNE FONCTION DANS PYTHON ?\n",
        "\n",
        "***Par [Josué AFOUDA](https://www.linkedin.com/in/josu%C3%A9-afouda-2b5837173/)***"
      ]
    },
    {
      "cell_type": "markdown",
      "metadata": {
        "id": "pjVch0AY6A2U"
      },
      "source": [
        "* **Les codes sont écrits pour des humains** ;\n",
        "\n",
        "* **Il est très important de donner des indications pour faciliter la compréhension du code**."
      ]
    },
    {
      "cell_type": "code",
      "metadata": {
        "id": "1vomjK099Lbw"
      },
      "source": [
        "# Fonction de standardisation d'une variable par calcul des z-scores\n",
        "\n",
        "def standardisation(variable):\n",
        "  z_score = (variable - variable.mean()) / variable.std()\n",
        "  return z_score\n"
      ],
      "execution_count": 1,
      "outputs": []
    },
    {
      "cell_type": "markdown",
      "metadata": {
        "id": "tYM2Q4tr6uC9"
      },
      "source": [
        "## Anatomie générale d'un docstring"
      ]
    },
    {
      "cell_type": "code",
      "metadata": {
        "id": "1jXriURZ5USi"
      },
      "source": [
        "def nom_de_la_fonction(argumets):\n",
        "\n",
        "  \"\"\"\n",
        "  Description de ce que la fonction fait\n",
        "  Description des arguments de la fonction\n",
        "  Description de la sortie de la fonction\n",
        "  Description des erreurs possibles\n",
        "  \"\"\"\n",
        "  return None"
      ],
      "execution_count": 2,
      "outputs": []
    },
    {
      "cell_type": "markdown",
      "metadata": {
        "id": "ZYBwJcGg8nOe"
      },
      "source": [
        "Les deux (02) principaux styles d'écriture d'un docstring :\n",
        "\n",
        "* ***Google Style*** ;\n",
        "\n",
        "* ***Numpydoc***."
      ]
    },
    {
      "cell_type": "markdown",
      "metadata": {
        "id": "c0pm3RrK9EgI"
      },
      "source": [
        "## Google Style"
      ]
    },
    {
      "cell_type": "code",
      "metadata": {
        "id": "YGeuXA2h9G3b"
      },
      "source": [
        "def googlestyle_standardisation(variable):\n",
        "  \"\"\"Standardisation des valeurs de la variable\n",
        "  Args:\n",
        "    variable (pandas serie ou dataframe pandas): les données à standardiser\n",
        "  \n",
        "  Returns:\n",
        "    pandas serie/dataframe: Les valeurs standardisées (Z_scores) de la variable/dataframe\n",
        "\n",
        "  Raises:\n",
        "    ValueError: si l'argument 'variable' n'est pas de type pandas series ou dataframe pandas\n",
        "\n",
        "  Notes:\n",
        "    Voir Josh (jjjjj@mail_address.com) pour toutes informations complémentaires\n",
        "  \"\"\"\n",
        "  z_score = (variable - variable.mean()) / variable.std()\n",
        "  return z_score"
      ],
      "execution_count": 3,
      "outputs": []
    },
    {
      "cell_type": "markdown",
      "metadata": {
        "id": "Tqx-UjrDBiAa"
      },
      "source": [
        "## Numpydoc"
      ]
    },
    {
      "cell_type": "code",
      "metadata": {
        "id": "McRlcFk5BhM1"
      },
      "source": [
        "def numpydoc_standardisation(variable):\n",
        "  \"\"\"\n",
        "  Standardisation des valeurs de la variable\n",
        "\n",
        "  parameters\n",
        "  -----------\n",
        "    variable (pandas serie ou dataframe pandas): les données à standardiser\n",
        "  \n",
        "  Returns\n",
        "  --------\n",
        "    pandas series/dataframe: Les valeurs standardisées (Z_scores) de la variable/dataframe\n",
        "\n",
        "  Raises\n",
        "  -------\n",
        "    ValueError: si l'argument 'variable' n'est pas de type pandas series ou dataframe pandas\n",
        "\n",
        "  Notes\n",
        "  ------\n",
        "    Voir Josh (jjjjj@mail_address.com) pour toutes informations complémentaires\n",
        "  \"\"\"\n",
        "  z_score = (variable - variable.mean()) / variable.std()\n",
        "  return z_score"
      ],
      "execution_count": 4,
      "outputs": []
    },
    {
      "cell_type": "markdown",
      "metadata": {
        "id": "Wlq3LqQ2Csxt"
      },
      "source": [
        "## Récupération de la documentation d'une fonction"
      ]
    },
    {
      "cell_type": "code",
      "metadata": {
        "colab": {
          "base_uri": "https://localhost:8080/"
        },
        "id": "gl0OMLXPCy1A",
        "outputId": "43822a12-1f44-4a4a-c137-c39a0d525f93"
      },
      "source": [
        "print(googlestyle_standardisation.__doc__)"
      ],
      "execution_count": 5,
      "outputs": [
        {
          "output_type": "stream",
          "text": [
            "Standardisation des valeurs de la variable\n",
            "  Args:\n",
            "    variable (pandas serie ou dataframe pandas): les données à standardiser\n",
            "  \n",
            "  Returns:\n",
            "    pandas serie/dataframe: Les valeurs standardisées (Z_scores) de la variable/dataframe\n",
            "\n",
            "  Raises:\n",
            "    ValueError: si l'argument 'variable' n'est pas de type pandas series ou dataframe pandas\n",
            "\n",
            "  Notes:\n",
            "    Voir Josh (jjjjj@mail_address.com) pour toutes informations complémentaires\n",
            "  \n"
          ],
          "name": "stdout"
        }
      ]
    },
    {
      "cell_type": "code",
      "metadata": {
        "colab": {
          "base_uri": "https://localhost:8080/"
        },
        "id": "NFLWKNASC61q",
        "outputId": "5e6cc96a-598c-4b3d-e7dd-b14937989983"
      },
      "source": [
        "print(numpydoc_standardisation.__doc__)"
      ],
      "execution_count": 6,
      "outputs": [
        {
          "output_type": "stream",
          "text": [
            "\n",
            "  Standardisation des valeurs de la variable\n",
            "\n",
            "  parameters\n",
            "  -----------\n",
            "    variable (pandas serie ou dataframe pandas): les données à standardiser\n",
            "  \n",
            "  Returns\n",
            "  --------\n",
            "    pandas series/dataframe: Les valeurs standardisées (Z_scores) de la variable/dataframe\n",
            "\n",
            "  Raises\n",
            "  -------\n",
            "    ValueError: si l'argument 'variable' n'est pas de type pandas series ou dataframe pandas\n",
            "\n",
            "  Notes\n",
            "  ------\n",
            "    Voir Josh (jjjjj@mail_address.com) pour toutes informations complémentaires\n",
            "  \n"
          ],
          "name": "stdout"
        }
      ]
    },
    {
      "cell_type": "markdown",
      "metadata": {
        "id": "SyLdNLz8Ehkk"
      },
      "source": [
        "## Utilisation de la fonction"
      ]
    },
    {
      "cell_type": "code",
      "metadata": {
        "id": "9i5V6p6HDAfc"
      },
      "source": [
        "import pandas as pd"
      ],
      "execution_count": 7,
      "outputs": []
    },
    {
      "cell_type": "markdown",
      "metadata": {
        "id": "ovWUgEGBEw0x"
      },
      "source": [
        "Données sur des espèces de poissons (Source : [Journal of Statistics](http://jse.amstat.org/jse_data_archive.htm))"
      ]
    },
    {
      "cell_type": "code",
      "metadata": {
        "colab": {
          "base_uri": "https://localhost:8080/",
          "height": 196
        },
        "id": "_01amdueEVjK",
        "outputId": "02e67265-9209-4fb5-89c6-ab11e0794275"
      },
      "source": [
        "columns = ['Species', 'Weight', 'Length1', 'Length2', 'Length3', 'Height%', 'Width%', 'Sex']\n",
        "\n",
        "fishes = pd.read_csv('http://jse.amstat.org/datasets/fishcatch.dat.txt', delimiter= '\\s+', header=None, names=columns)\n",
        "\n",
        "fishes.head()"
      ],
      "execution_count": 8,
      "outputs": [
        {
          "output_type": "execute_result",
          "data": {
            "text/html": [
              "<div>\n",
              "<style scoped>\n",
              "    .dataframe tbody tr th:only-of-type {\n",
              "        vertical-align: middle;\n",
              "    }\n",
              "\n",
              "    .dataframe tbody tr th {\n",
              "        vertical-align: top;\n",
              "    }\n",
              "\n",
              "    .dataframe thead th {\n",
              "        text-align: right;\n",
              "    }\n",
              "</style>\n",
              "<table border=\"1\" class=\"dataframe\">\n",
              "  <thead>\n",
              "    <tr style=\"text-align: right;\">\n",
              "      <th></th>\n",
              "      <th>Species</th>\n",
              "      <th>Weight</th>\n",
              "      <th>Length1</th>\n",
              "      <th>Length2</th>\n",
              "      <th>Length3</th>\n",
              "      <th>Height%</th>\n",
              "      <th>Width%</th>\n",
              "      <th>Sex</th>\n",
              "    </tr>\n",
              "  </thead>\n",
              "  <tbody>\n",
              "    <tr>\n",
              "      <th>1</th>\n",
              "      <td>1</td>\n",
              "      <td>242.0</td>\n",
              "      <td>23.2</td>\n",
              "      <td>25.4</td>\n",
              "      <td>30.0</td>\n",
              "      <td>38.4</td>\n",
              "      <td>13.4</td>\n",
              "      <td>NaN</td>\n",
              "    </tr>\n",
              "    <tr>\n",
              "      <th>2</th>\n",
              "      <td>1</td>\n",
              "      <td>290.0</td>\n",
              "      <td>24.0</td>\n",
              "      <td>26.3</td>\n",
              "      <td>31.2</td>\n",
              "      <td>40.0</td>\n",
              "      <td>13.8</td>\n",
              "      <td>NaN</td>\n",
              "    </tr>\n",
              "    <tr>\n",
              "      <th>3</th>\n",
              "      <td>1</td>\n",
              "      <td>340.0</td>\n",
              "      <td>23.9</td>\n",
              "      <td>26.5</td>\n",
              "      <td>31.1</td>\n",
              "      <td>39.8</td>\n",
              "      <td>15.1</td>\n",
              "      <td>NaN</td>\n",
              "    </tr>\n",
              "    <tr>\n",
              "      <th>4</th>\n",
              "      <td>1</td>\n",
              "      <td>363.0</td>\n",
              "      <td>26.3</td>\n",
              "      <td>29.0</td>\n",
              "      <td>33.5</td>\n",
              "      <td>38.0</td>\n",
              "      <td>13.3</td>\n",
              "      <td>NaN</td>\n",
              "    </tr>\n",
              "    <tr>\n",
              "      <th>5</th>\n",
              "      <td>1</td>\n",
              "      <td>430.0</td>\n",
              "      <td>26.5</td>\n",
              "      <td>29.0</td>\n",
              "      <td>34.0</td>\n",
              "      <td>36.6</td>\n",
              "      <td>15.1</td>\n",
              "      <td>NaN</td>\n",
              "    </tr>\n",
              "  </tbody>\n",
              "</table>\n",
              "</div>"
            ],
            "text/plain": [
              "   Species  Weight  Length1  Length2  Length3  Height%  Width%  Sex\n",
              "1        1   242.0     23.2     25.4     30.0     38.4    13.4  NaN\n",
              "2        1   290.0     24.0     26.3     31.2     40.0    13.8  NaN\n",
              "3        1   340.0     23.9     26.5     31.1     39.8    15.1  NaN\n",
              "4        1   363.0     26.3     29.0     33.5     38.0    13.3  NaN\n",
              "5        1   430.0     26.5     29.0     34.0     36.6    15.1  NaN"
            ]
          },
          "metadata": {
            "tags": []
          },
          "execution_count": 8
        }
      ]
    },
    {
      "cell_type": "code",
      "metadata": {
        "id": "gb_5YPs3JwTK"
      },
      "source": [
        "fishes.drop(columns=['Sex'], inplace=True)"
      ],
      "execution_count": 9,
      "outputs": []
    },
    {
      "cell_type": "code",
      "metadata": {
        "colab": {
          "base_uri": "https://localhost:8080/",
          "height": 404
        },
        "id": "UKu7NPsGGkKq",
        "outputId": "cc5aaabe-48b5-49b4-a8cb-f21f66342cf8"
      },
      "source": [
        "fishes_std = googlestyle_standardisation(fishes)\n",
        "fishes_std"
      ],
      "execution_count": 10,
      "outputs": [
        {
          "output_type": "execute_result",
          "data": {
            "text/html": [
              "<div>\n",
              "<style scoped>\n",
              "    .dataframe tbody tr th:only-of-type {\n",
              "        vertical-align: middle;\n",
              "    }\n",
              "\n",
              "    .dataframe tbody tr th {\n",
              "        vertical-align: top;\n",
              "    }\n",
              "\n",
              "    .dataframe thead th {\n",
              "        text-align: right;\n",
              "    }\n",
              "</style>\n",
              "<table border=\"1\" class=\"dataframe\">\n",
              "  <thead>\n",
              "    <tr style=\"text-align: right;\">\n",
              "      <th></th>\n",
              "      <th>Species</th>\n",
              "      <th>Weight</th>\n",
              "      <th>Length1</th>\n",
              "      <th>Length2</th>\n",
              "      <th>Length3</th>\n",
              "      <th>Height%</th>\n",
              "      <th>Width%</th>\n",
              "    </tr>\n",
              "  </thead>\n",
              "  <tbody>\n",
              "    <tr>\n",
              "      <th>1</th>\n",
              "      <td>-1.460503</td>\n",
              "      <td>-0.436373</td>\n",
              "      <td>-0.304825</td>\n",
              "      <td>-0.281414</td>\n",
              "      <td>-0.105686</td>\n",
              "      <td>1.215112</td>\n",
              "      <td>-0.314967</td>\n",
              "    </tr>\n",
              "    <tr>\n",
              "      <th>2</th>\n",
              "      <td>-1.460503</td>\n",
              "      <td>-0.302700</td>\n",
              "      <td>-0.224797</td>\n",
              "      <td>-0.197430</td>\n",
              "      <td>-0.002329</td>\n",
              "      <td>1.407857</td>\n",
              "      <td>-0.139094</td>\n",
              "    </tr>\n",
              "    <tr>\n",
              "      <th>3</th>\n",
              "      <td>-1.460503</td>\n",
              "      <td>-0.163458</td>\n",
              "      <td>-0.234801</td>\n",
              "      <td>-0.178767</td>\n",
              "      <td>-0.010942</td>\n",
              "      <td>1.383764</td>\n",
              "      <td>0.432492</td>\n",
              "    </tr>\n",
              "    <tr>\n",
              "      <th>4</th>\n",
              "      <td>-1.460503</td>\n",
              "      <td>-0.099407</td>\n",
              "      <td>0.005285</td>\n",
              "      <td>0.054522</td>\n",
              "      <td>0.195772</td>\n",
              "      <td>1.166926</td>\n",
              "      <td>-0.358935</td>\n",
              "    </tr>\n",
              "    <tr>\n",
              "      <th>5</th>\n",
              "      <td>-1.460503</td>\n",
              "      <td>0.087178</td>\n",
              "      <td>0.025292</td>\n",
              "      <td>0.054522</td>\n",
              "      <td>0.238837</td>\n",
              "      <td>0.998274</td>\n",
              "      <td>0.432492</td>\n",
              "    </tr>\n",
              "    <tr>\n",
              "      <th>...</th>\n",
              "      <td>...</td>\n",
              "      <td>...</td>\n",
              "      <td>...</td>\n",
              "      <td>...</td>\n",
              "      <td>...</td>\n",
              "      <td>...</td>\n",
              "      <td>...</td>\n",
              "    </tr>\n",
              "    <tr>\n",
              "      <th>155</th>\n",
              "      <td>1.045468</td>\n",
              "      <td>1.953025</td>\n",
              "      <td>1.275737</td>\n",
              "      <td>1.267624</td>\n",
              "      <td>1.151824</td>\n",
              "      <td>0.046595</td>\n",
              "      <td>0.564397</td>\n",
              "    </tr>\n",
              "    <tr>\n",
              "      <th>156</th>\n",
              "      <td>1.045468</td>\n",
              "      <td>1.674541</td>\n",
              "      <td>1.355766</td>\n",
              "      <td>1.360940</td>\n",
              "      <td>1.203502</td>\n",
              "      <td>-0.230476</td>\n",
              "      <td>0.872174</td>\n",
              "    </tr>\n",
              "    <tr>\n",
              "      <th>157</th>\n",
              "      <td>1.045468</td>\n",
              "      <td>1.953025</td>\n",
              "      <td>1.385776</td>\n",
              "      <td>1.360940</td>\n",
              "      <td>1.229341</td>\n",
              "      <td>-0.097964</td>\n",
              "      <td>0.960110</td>\n",
              "    </tr>\n",
              "    <tr>\n",
              "      <th>158</th>\n",
              "      <td>1.045468</td>\n",
              "      <td>1.674541</td>\n",
              "      <td>1.395780</td>\n",
              "      <td>1.407598</td>\n",
              "      <td>1.272407</td>\n",
              "      <td>-0.110010</td>\n",
              "      <td>1.575665</td>\n",
              "    </tr>\n",
              "    <tr>\n",
              "      <th>159</th>\n",
              "      <td>1.045468</td>\n",
              "      <td>1.674541</td>\n",
              "      <td>1.485812</td>\n",
              "      <td>1.454255</td>\n",
              "      <td>1.324085</td>\n",
              "      <td>-0.182290</td>\n",
              "      <td>0.960110</td>\n",
              "    </tr>\n",
              "  </tbody>\n",
              "</table>\n",
              "<p>159 rows × 7 columns</p>\n",
              "</div>"
            ],
            "text/plain": [
              "      Species    Weight   Length1   Length2   Length3   Height%    Width%\n",
              "1   -1.460503 -0.436373 -0.304825 -0.281414 -0.105686  1.215112 -0.314967\n",
              "2   -1.460503 -0.302700 -0.224797 -0.197430 -0.002329  1.407857 -0.139094\n",
              "3   -1.460503 -0.163458 -0.234801 -0.178767 -0.010942  1.383764  0.432492\n",
              "4   -1.460503 -0.099407  0.005285  0.054522  0.195772  1.166926 -0.358935\n",
              "5   -1.460503  0.087178  0.025292  0.054522  0.238837  0.998274  0.432492\n",
              "..        ...       ...       ...       ...       ...       ...       ...\n",
              "155  1.045468  1.953025  1.275737  1.267624  1.151824  0.046595  0.564397\n",
              "156  1.045468  1.674541  1.355766  1.360940  1.203502 -0.230476  0.872174\n",
              "157  1.045468  1.953025  1.385776  1.360940  1.229341 -0.097964  0.960110\n",
              "158  1.045468  1.674541  1.395780  1.407598  1.272407 -0.110010  1.575665\n",
              "159  1.045468  1.674541  1.485812  1.454255  1.324085 -0.182290  0.960110\n",
              "\n",
              "[159 rows x 7 columns]"
            ]
          },
          "metadata": {
            "tags": []
          },
          "execution_count": 10
        }
      ]
    },
    {
      "cell_type": "code",
      "metadata": {
        "colab": {
          "base_uri": "https://localhost:8080/",
          "height": 404
        },
        "id": "LyOLVfHCJfZd",
        "outputId": "48989738-031a-4359-d3c4-e7d6f30b8367"
      },
      "source": [
        "fishes2_std = numpydoc_standardisation(fishes)\n",
        "fishes2_std"
      ],
      "execution_count": 11,
      "outputs": [
        {
          "output_type": "execute_result",
          "data": {
            "text/html": [
              "<div>\n",
              "<style scoped>\n",
              "    .dataframe tbody tr th:only-of-type {\n",
              "        vertical-align: middle;\n",
              "    }\n",
              "\n",
              "    .dataframe tbody tr th {\n",
              "        vertical-align: top;\n",
              "    }\n",
              "\n",
              "    .dataframe thead th {\n",
              "        text-align: right;\n",
              "    }\n",
              "</style>\n",
              "<table border=\"1\" class=\"dataframe\">\n",
              "  <thead>\n",
              "    <tr style=\"text-align: right;\">\n",
              "      <th></th>\n",
              "      <th>Species</th>\n",
              "      <th>Weight</th>\n",
              "      <th>Length1</th>\n",
              "      <th>Length2</th>\n",
              "      <th>Length3</th>\n",
              "      <th>Height%</th>\n",
              "      <th>Width%</th>\n",
              "    </tr>\n",
              "  </thead>\n",
              "  <tbody>\n",
              "    <tr>\n",
              "      <th>1</th>\n",
              "      <td>-1.460503</td>\n",
              "      <td>-0.436373</td>\n",
              "      <td>-0.304825</td>\n",
              "      <td>-0.281414</td>\n",
              "      <td>-0.105686</td>\n",
              "      <td>1.215112</td>\n",
              "      <td>-0.314967</td>\n",
              "    </tr>\n",
              "    <tr>\n",
              "      <th>2</th>\n",
              "      <td>-1.460503</td>\n",
              "      <td>-0.302700</td>\n",
              "      <td>-0.224797</td>\n",
              "      <td>-0.197430</td>\n",
              "      <td>-0.002329</td>\n",
              "      <td>1.407857</td>\n",
              "      <td>-0.139094</td>\n",
              "    </tr>\n",
              "    <tr>\n",
              "      <th>3</th>\n",
              "      <td>-1.460503</td>\n",
              "      <td>-0.163458</td>\n",
              "      <td>-0.234801</td>\n",
              "      <td>-0.178767</td>\n",
              "      <td>-0.010942</td>\n",
              "      <td>1.383764</td>\n",
              "      <td>0.432492</td>\n",
              "    </tr>\n",
              "    <tr>\n",
              "      <th>4</th>\n",
              "      <td>-1.460503</td>\n",
              "      <td>-0.099407</td>\n",
              "      <td>0.005285</td>\n",
              "      <td>0.054522</td>\n",
              "      <td>0.195772</td>\n",
              "      <td>1.166926</td>\n",
              "      <td>-0.358935</td>\n",
              "    </tr>\n",
              "    <tr>\n",
              "      <th>5</th>\n",
              "      <td>-1.460503</td>\n",
              "      <td>0.087178</td>\n",
              "      <td>0.025292</td>\n",
              "      <td>0.054522</td>\n",
              "      <td>0.238837</td>\n",
              "      <td>0.998274</td>\n",
              "      <td>0.432492</td>\n",
              "    </tr>\n",
              "    <tr>\n",
              "      <th>...</th>\n",
              "      <td>...</td>\n",
              "      <td>...</td>\n",
              "      <td>...</td>\n",
              "      <td>...</td>\n",
              "      <td>...</td>\n",
              "      <td>...</td>\n",
              "      <td>...</td>\n",
              "    </tr>\n",
              "    <tr>\n",
              "      <th>155</th>\n",
              "      <td>1.045468</td>\n",
              "      <td>1.953025</td>\n",
              "      <td>1.275737</td>\n",
              "      <td>1.267624</td>\n",
              "      <td>1.151824</td>\n",
              "      <td>0.046595</td>\n",
              "      <td>0.564397</td>\n",
              "    </tr>\n",
              "    <tr>\n",
              "      <th>156</th>\n",
              "      <td>1.045468</td>\n",
              "      <td>1.674541</td>\n",
              "      <td>1.355766</td>\n",
              "      <td>1.360940</td>\n",
              "      <td>1.203502</td>\n",
              "      <td>-0.230476</td>\n",
              "      <td>0.872174</td>\n",
              "    </tr>\n",
              "    <tr>\n",
              "      <th>157</th>\n",
              "      <td>1.045468</td>\n",
              "      <td>1.953025</td>\n",
              "      <td>1.385776</td>\n",
              "      <td>1.360940</td>\n",
              "      <td>1.229341</td>\n",
              "      <td>-0.097964</td>\n",
              "      <td>0.960110</td>\n",
              "    </tr>\n",
              "    <tr>\n",
              "      <th>158</th>\n",
              "      <td>1.045468</td>\n",
              "      <td>1.674541</td>\n",
              "      <td>1.395780</td>\n",
              "      <td>1.407598</td>\n",
              "      <td>1.272407</td>\n",
              "      <td>-0.110010</td>\n",
              "      <td>1.575665</td>\n",
              "    </tr>\n",
              "    <tr>\n",
              "      <th>159</th>\n",
              "      <td>1.045468</td>\n",
              "      <td>1.674541</td>\n",
              "      <td>1.485812</td>\n",
              "      <td>1.454255</td>\n",
              "      <td>1.324085</td>\n",
              "      <td>-0.182290</td>\n",
              "      <td>0.960110</td>\n",
              "    </tr>\n",
              "  </tbody>\n",
              "</table>\n",
              "<p>159 rows × 7 columns</p>\n",
              "</div>"
            ],
            "text/plain": [
              "      Species    Weight   Length1   Length2   Length3   Height%    Width%\n",
              "1   -1.460503 -0.436373 -0.304825 -0.281414 -0.105686  1.215112 -0.314967\n",
              "2   -1.460503 -0.302700 -0.224797 -0.197430 -0.002329  1.407857 -0.139094\n",
              "3   -1.460503 -0.163458 -0.234801 -0.178767 -0.010942  1.383764  0.432492\n",
              "4   -1.460503 -0.099407  0.005285  0.054522  0.195772  1.166926 -0.358935\n",
              "5   -1.460503  0.087178  0.025292  0.054522  0.238837  0.998274  0.432492\n",
              "..        ...       ...       ...       ...       ...       ...       ...\n",
              "155  1.045468  1.953025  1.275737  1.267624  1.151824  0.046595  0.564397\n",
              "156  1.045468  1.674541  1.355766  1.360940  1.203502 -0.230476  0.872174\n",
              "157  1.045468  1.953025  1.385776  1.360940  1.229341 -0.097964  0.960110\n",
              "158  1.045468  1.674541  1.395780  1.407598  1.272407 -0.110010  1.575665\n",
              "159  1.045468  1.674541  1.485812  1.454255  1.324085 -0.182290  0.960110\n",
              "\n",
              "[159 rows x 7 columns]"
            ]
          },
          "metadata": {
            "tags": []
          },
          "execution_count": 11
        }
      ]
    },
    {
      "cell_type": "code",
      "metadata": {
        "colab": {
          "base_uri": "https://localhost:8080/"
        },
        "id": "Br_iLnF5J--T",
        "outputId": "58a65e6b-707e-453a-a08f-caaf5c5264db"
      },
      "source": [
        "fishes_std.equals(fishes2_std)"
      ],
      "execution_count": 12,
      "outputs": [
        {
          "output_type": "execute_result",
          "data": {
            "text/plain": [
              "True"
            ]
          },
          "metadata": {
            "tags": []
          },
          "execution_count": 12
        }
      ]
    }
  ]
}